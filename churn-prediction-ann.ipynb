{
 "cells": [
  {
   "cell_type": "code",
   "execution_count": 1,
   "id": "7cf3db7c",
   "metadata": {
    "_cell_guid": "b1076dfc-b9ad-4769-8c92-a6c4dae69d19",
    "_uuid": "8f2839f25d086af736a60e9eeb907d3b93b6e0e5",
    "execution": {
     "iopub.execute_input": "2024-09-12T18:48:08.509725Z",
     "iopub.status.busy": "2024-09-12T18:48:08.509296Z",
     "iopub.status.idle": "2024-09-12T18:48:08.938558Z",
     "shell.execute_reply": "2024-09-12T18:48:08.937349Z"
    },
    "papermill": {
     "duration": 0.442404,
     "end_time": "2024-09-12T18:48:08.941510",
     "exception": false,
     "start_time": "2024-09-12T18:48:08.499106",
     "status": "completed"
    },
    "tags": []
   },
   "outputs": [
    {
     "name": "stdout",
     "output_type": "stream",
     "text": [
      "/kaggle/input/credit-card-customer-churn-prediction/Churn_Modelling.csv\n"
     ]
    }
   ],
   "source": [
    "# This Python 3 environment comes with many helpful analytics libraries installed\n",
    "# It is defined by the kaggle/python Docker image: https://github.com/kaggle/docker-python\n",
    "# For example, here's several helpful packages to load\n",
    "\n",
    "import numpy as np # linear algebra\n",
    "import pandas as pd # data processing, CSV file I/O (e.g. pd.read_csv)\n",
    "\n",
    "# Input data files are available in the read-only \"../input/\" directory\n",
    "# For example, running this (by clicking run or pressing Shift+Enter) will list all files under the input directory\n",
    "\n",
    "import os\n",
    "for dirname, _, filenames in os.walk('/kaggle/input'):\n",
    "    for filename in filenames:\n",
    "        print(os.path.join(dirname, filename))\n",
    "\n",
    "# You can write up to 20GB to the current directory (/kaggle/working/) that gets preserved as output when you create a version using \"Save & Run All\" \n",
    "# You can also write temporary files to /kaggle/temp/, but they won't be saved outside of the current session"
   ]
  },
  {
   "cell_type": "code",
   "execution_count": 2,
   "id": "70560077",
   "metadata": {
    "execution": {
     "iopub.execute_input": "2024-09-12T18:48:08.963088Z",
     "iopub.status.busy": "2024-09-12T18:48:08.962471Z",
     "iopub.status.idle": "2024-09-12T18:48:09.014614Z",
     "shell.execute_reply": "2024-09-12T18:48:09.013561Z"
    },
    "papermill": {
     "duration": 0.064176,
     "end_time": "2024-09-12T18:48:09.017335",
     "exception": false,
     "start_time": "2024-09-12T18:48:08.953159",
     "status": "completed"
    },
    "tags": []
   },
   "outputs": [],
   "source": [
    "df=pd.read_csv('/kaggle/input/credit-card-customer-churn-prediction/Churn_Modelling.csv')"
   ]
  },
  {
   "cell_type": "code",
   "execution_count": 3,
   "id": "e894af05",
   "metadata": {
    "execution": {
     "iopub.execute_input": "2024-09-12T18:48:09.036197Z",
     "iopub.status.busy": "2024-09-12T18:48:09.035283Z",
     "iopub.status.idle": "2024-09-12T18:48:09.063896Z",
     "shell.execute_reply": "2024-09-12T18:48:09.062734Z"
    },
    "papermill": {
     "duration": 0.040276,
     "end_time": "2024-09-12T18:48:09.066322",
     "exception": false,
     "start_time": "2024-09-12T18:48:09.026046",
     "status": "completed"
    },
    "tags": []
   },
   "outputs": [
    {
     "data": {
      "text/html": [
       "<div>\n",
       "<style scoped>\n",
       "    .dataframe tbody tr th:only-of-type {\n",
       "        vertical-align: middle;\n",
       "    }\n",
       "\n",
       "    .dataframe tbody tr th {\n",
       "        vertical-align: top;\n",
       "    }\n",
       "\n",
       "    .dataframe thead th {\n",
       "        text-align: right;\n",
       "    }\n",
       "</style>\n",
       "<table border=\"1\" class=\"dataframe\">\n",
       "  <thead>\n",
       "    <tr style=\"text-align: right;\">\n",
       "      <th></th>\n",
       "      <th>RowNumber</th>\n",
       "      <th>CustomerId</th>\n",
       "      <th>Surname</th>\n",
       "      <th>CreditScore</th>\n",
       "      <th>Geography</th>\n",
       "      <th>Gender</th>\n",
       "      <th>Age</th>\n",
       "      <th>Tenure</th>\n",
       "      <th>Balance</th>\n",
       "      <th>NumOfProducts</th>\n",
       "      <th>HasCrCard</th>\n",
       "      <th>IsActiveMember</th>\n",
       "      <th>EstimatedSalary</th>\n",
       "      <th>Exited</th>\n",
       "    </tr>\n",
       "  </thead>\n",
       "  <tbody>\n",
       "    <tr>\n",
       "      <th>0</th>\n",
       "      <td>1</td>\n",
       "      <td>15634602</td>\n",
       "      <td>Hargrave</td>\n",
       "      <td>619</td>\n",
       "      <td>France</td>\n",
       "      <td>Female</td>\n",
       "      <td>42</td>\n",
       "      <td>2</td>\n",
       "      <td>0.00</td>\n",
       "      <td>1</td>\n",
       "      <td>1</td>\n",
       "      <td>1</td>\n",
       "      <td>101348.88</td>\n",
       "      <td>1</td>\n",
       "    </tr>\n",
       "    <tr>\n",
       "      <th>1</th>\n",
       "      <td>2</td>\n",
       "      <td>15647311</td>\n",
       "      <td>Hill</td>\n",
       "      <td>608</td>\n",
       "      <td>Spain</td>\n",
       "      <td>Female</td>\n",
       "      <td>41</td>\n",
       "      <td>1</td>\n",
       "      <td>83807.86</td>\n",
       "      <td>1</td>\n",
       "      <td>0</td>\n",
       "      <td>1</td>\n",
       "      <td>112542.58</td>\n",
       "      <td>0</td>\n",
       "    </tr>\n",
       "    <tr>\n",
       "      <th>2</th>\n",
       "      <td>3</td>\n",
       "      <td>15619304</td>\n",
       "      <td>Onio</td>\n",
       "      <td>502</td>\n",
       "      <td>France</td>\n",
       "      <td>Female</td>\n",
       "      <td>42</td>\n",
       "      <td>8</td>\n",
       "      <td>159660.80</td>\n",
       "      <td>3</td>\n",
       "      <td>1</td>\n",
       "      <td>0</td>\n",
       "      <td>113931.57</td>\n",
       "      <td>1</td>\n",
       "    </tr>\n",
       "    <tr>\n",
       "      <th>3</th>\n",
       "      <td>4</td>\n",
       "      <td>15701354</td>\n",
       "      <td>Boni</td>\n",
       "      <td>699</td>\n",
       "      <td>France</td>\n",
       "      <td>Female</td>\n",
       "      <td>39</td>\n",
       "      <td>1</td>\n",
       "      <td>0.00</td>\n",
       "      <td>2</td>\n",
       "      <td>0</td>\n",
       "      <td>0</td>\n",
       "      <td>93826.63</td>\n",
       "      <td>0</td>\n",
       "    </tr>\n",
       "    <tr>\n",
       "      <th>4</th>\n",
       "      <td>5</td>\n",
       "      <td>15737888</td>\n",
       "      <td>Mitchell</td>\n",
       "      <td>850</td>\n",
       "      <td>Spain</td>\n",
       "      <td>Female</td>\n",
       "      <td>43</td>\n",
       "      <td>2</td>\n",
       "      <td>125510.82</td>\n",
       "      <td>1</td>\n",
       "      <td>1</td>\n",
       "      <td>1</td>\n",
       "      <td>79084.10</td>\n",
       "      <td>0</td>\n",
       "    </tr>\n",
       "  </tbody>\n",
       "</table>\n",
       "</div>"
      ],
      "text/plain": [
       "   RowNumber  CustomerId   Surname  CreditScore Geography  Gender  Age  \\\n",
       "0          1    15634602  Hargrave          619    France  Female   42   \n",
       "1          2    15647311      Hill          608     Spain  Female   41   \n",
       "2          3    15619304      Onio          502    France  Female   42   \n",
       "3          4    15701354      Boni          699    France  Female   39   \n",
       "4          5    15737888  Mitchell          850     Spain  Female   43   \n",
       "\n",
       "   Tenure    Balance  NumOfProducts  HasCrCard  IsActiveMember  \\\n",
       "0       2       0.00              1          1               1   \n",
       "1       1   83807.86              1          0               1   \n",
       "2       8  159660.80              3          1               0   \n",
       "3       1       0.00              2          0               0   \n",
       "4       2  125510.82              1          1               1   \n",
       "\n",
       "   EstimatedSalary  Exited  \n",
       "0        101348.88       1  \n",
       "1        112542.58       0  \n",
       "2        113931.57       1  \n",
       "3         93826.63       0  \n",
       "4         79084.10       0  "
      ]
     },
     "execution_count": 3,
     "metadata": {},
     "output_type": "execute_result"
    }
   ],
   "source": [
    "df.head()"
   ]
  },
  {
   "cell_type": "code",
   "execution_count": 4,
   "id": "2b5555bb",
   "metadata": {
    "execution": {
     "iopub.execute_input": "2024-09-12T18:48:09.084451Z",
     "iopub.status.busy": "2024-09-12T18:48:09.084046Z",
     "iopub.status.idle": "2024-09-12T18:48:09.090107Z",
     "shell.execute_reply": "2024-09-12T18:48:09.088792Z"
    },
    "papermill": {
     "duration": 0.017882,
     "end_time": "2024-09-12T18:48:09.092481",
     "exception": false,
     "start_time": "2024-09-12T18:48:09.074599",
     "status": "completed"
    },
    "tags": []
   },
   "outputs": [
    {
     "name": "stdout",
     "output_type": "stream",
     "text": [
      "(10000, 14)\n"
     ]
    }
   ],
   "source": [
    "print(df.shape)"
   ]
  },
  {
   "cell_type": "code",
   "execution_count": 5,
   "id": "fb8fe17d",
   "metadata": {
    "execution": {
     "iopub.execute_input": "2024-09-12T18:48:09.110730Z",
     "iopub.status.busy": "2024-09-12T18:48:09.110302Z",
     "iopub.status.idle": "2024-09-12T18:48:09.140180Z",
     "shell.execute_reply": "2024-09-12T18:48:09.138813Z"
    },
    "papermill": {
     "duration": 0.04227,
     "end_time": "2024-09-12T18:48:09.143085",
     "exception": false,
     "start_time": "2024-09-12T18:48:09.100815",
     "status": "completed"
    },
    "tags": []
   },
   "outputs": [
    {
     "name": "stdout",
     "output_type": "stream",
     "text": [
      "<class 'pandas.core.frame.DataFrame'>\n",
      "RangeIndex: 10000 entries, 0 to 9999\n",
      "Data columns (total 14 columns):\n",
      " #   Column           Non-Null Count  Dtype  \n",
      "---  ------           --------------  -----  \n",
      " 0   RowNumber        10000 non-null  int64  \n",
      " 1   CustomerId       10000 non-null  int64  \n",
      " 2   Surname          10000 non-null  object \n",
      " 3   CreditScore      10000 non-null  int64  \n",
      " 4   Geography        10000 non-null  object \n",
      " 5   Gender           10000 non-null  object \n",
      " 6   Age              10000 non-null  int64  \n",
      " 7   Tenure           10000 non-null  int64  \n",
      " 8   Balance          10000 non-null  float64\n",
      " 9   NumOfProducts    10000 non-null  int64  \n",
      " 10  HasCrCard        10000 non-null  int64  \n",
      " 11  IsActiveMember   10000 non-null  int64  \n",
      " 12  EstimatedSalary  10000 non-null  float64\n",
      " 13  Exited           10000 non-null  int64  \n",
      "dtypes: float64(2), int64(9), object(3)\n",
      "memory usage: 1.1+ MB\n"
     ]
    }
   ],
   "source": [
    "df.info()"
   ]
  },
  {
   "cell_type": "code",
   "execution_count": 6,
   "id": "7445cf06",
   "metadata": {
    "execution": {
     "iopub.execute_input": "2024-09-12T18:48:09.162462Z",
     "iopub.status.busy": "2024-09-12T18:48:09.162043Z",
     "iopub.status.idle": "2024-09-12T18:48:09.177311Z",
     "shell.execute_reply": "2024-09-12T18:48:09.176063Z"
    },
    "papermill": {
     "duration": 0.028299,
     "end_time": "2024-09-12T18:48:09.179909",
     "exception": false,
     "start_time": "2024-09-12T18:48:09.151610",
     "status": "completed"
    },
    "tags": []
   },
   "outputs": [
    {
     "data": {
      "text/plain": [
       "0"
      ]
     },
     "execution_count": 6,
     "metadata": {},
     "output_type": "execute_result"
    }
   ],
   "source": [
    "df.duplicated().sum()"
   ]
  },
  {
   "cell_type": "code",
   "execution_count": 7,
   "id": "d4ef1bc0",
   "metadata": {
    "execution": {
     "iopub.execute_input": "2024-09-12T18:48:09.198810Z",
     "iopub.status.busy": "2024-09-12T18:48:09.198377Z",
     "iopub.status.idle": "2024-09-12T18:48:09.209261Z",
     "shell.execute_reply": "2024-09-12T18:48:09.208221Z"
    },
    "papermill": {
     "duration": 0.023048,
     "end_time": "2024-09-12T18:48:09.211551",
     "exception": false,
     "start_time": "2024-09-12T18:48:09.188503",
     "status": "completed"
    },
    "tags": []
   },
   "outputs": [
    {
     "data": {
      "text/plain": [
       "Exited\n",
       "0    7963\n",
       "1    2037\n",
       "Name: count, dtype: int64"
      ]
     },
     "execution_count": 7,
     "metadata": {},
     "output_type": "execute_result"
    }
   ],
   "source": [
    "df['Exited'].value_counts()"
   ]
  },
  {
   "cell_type": "code",
   "execution_count": 8,
   "id": "06d8f752",
   "metadata": {
    "execution": {
     "iopub.execute_input": "2024-09-12T18:48:09.231013Z",
     "iopub.status.busy": "2024-09-12T18:48:09.230422Z",
     "iopub.status.idle": "2024-09-12T18:48:09.240963Z",
     "shell.execute_reply": "2024-09-12T18:48:09.239484Z"
    },
    "papermill": {
     "duration": 0.022967,
     "end_time": "2024-09-12T18:48:09.243304",
     "exception": false,
     "start_time": "2024-09-12T18:48:09.220337",
     "status": "completed"
    },
    "tags": []
   },
   "outputs": [
    {
     "data": {
      "text/plain": [
       "Geography\n",
       "France     5014\n",
       "Germany    2509\n",
       "Spain      2477\n",
       "Name: count, dtype: int64"
      ]
     },
     "execution_count": 8,
     "metadata": {},
     "output_type": "execute_result"
    }
   ],
   "source": [
    "df['Geography'].value_counts()"
   ]
  },
  {
   "cell_type": "code",
   "execution_count": 9,
   "id": "74370757",
   "metadata": {
    "execution": {
     "iopub.execute_input": "2024-09-12T18:48:09.262844Z",
     "iopub.status.busy": "2024-09-12T18:48:09.262384Z",
     "iopub.status.idle": "2024-09-12T18:48:09.271939Z",
     "shell.execute_reply": "2024-09-12T18:48:09.270843Z"
    },
    "papermill": {
     "duration": 0.022088,
     "end_time": "2024-09-12T18:48:09.274261",
     "exception": false,
     "start_time": "2024-09-12T18:48:09.252173",
     "status": "completed"
    },
    "tags": []
   },
   "outputs": [
    {
     "data": {
      "text/plain": [
       "Gender\n",
       "Male      5457\n",
       "Female    4543\n",
       "Name: count, dtype: int64"
      ]
     },
     "execution_count": 9,
     "metadata": {},
     "output_type": "execute_result"
    }
   ],
   "source": [
    "df['Gender'].value_counts()"
   ]
  },
  {
   "cell_type": "code",
   "execution_count": 10,
   "id": "ffda6898",
   "metadata": {
    "execution": {
     "iopub.execute_input": "2024-09-12T18:48:09.293981Z",
     "iopub.status.busy": "2024-09-12T18:48:09.293534Z",
     "iopub.status.idle": "2024-09-12T18:48:09.303782Z",
     "shell.execute_reply": "2024-09-12T18:48:09.302609Z"
    },
    "papermill": {
     "duration": 0.02325,
     "end_time": "2024-09-12T18:48:09.306470",
     "exception": false,
     "start_time": "2024-09-12T18:48:09.283220",
     "status": "completed"
    },
    "tags": []
   },
   "outputs": [],
   "source": [
    "df.drop(columns=['RowNumber','CustomerId','Surname'],inplace=True)"
   ]
  },
  {
   "cell_type": "code",
   "execution_count": 11,
   "id": "30174c65",
   "metadata": {
    "execution": {
     "iopub.execute_input": "2024-09-12T18:48:09.328946Z",
     "iopub.status.busy": "2024-09-12T18:48:09.328493Z",
     "iopub.status.idle": "2024-09-12T18:48:09.344911Z",
     "shell.execute_reply": "2024-09-12T18:48:09.343465Z"
    },
    "papermill": {
     "duration": 0.031607,
     "end_time": "2024-09-12T18:48:09.347571",
     "exception": false,
     "start_time": "2024-09-12T18:48:09.315964",
     "status": "completed"
    },
    "tags": []
   },
   "outputs": [
    {
     "data": {
      "text/html": [
       "<div>\n",
       "<style scoped>\n",
       "    .dataframe tbody tr th:only-of-type {\n",
       "        vertical-align: middle;\n",
       "    }\n",
       "\n",
       "    .dataframe tbody tr th {\n",
       "        vertical-align: top;\n",
       "    }\n",
       "\n",
       "    .dataframe thead th {\n",
       "        text-align: right;\n",
       "    }\n",
       "</style>\n",
       "<table border=\"1\" class=\"dataframe\">\n",
       "  <thead>\n",
       "    <tr style=\"text-align: right;\">\n",
       "      <th></th>\n",
       "      <th>CreditScore</th>\n",
       "      <th>Geography</th>\n",
       "      <th>Gender</th>\n",
       "      <th>Age</th>\n",
       "      <th>Tenure</th>\n",
       "      <th>Balance</th>\n",
       "      <th>NumOfProducts</th>\n",
       "      <th>HasCrCard</th>\n",
       "      <th>IsActiveMember</th>\n",
       "      <th>EstimatedSalary</th>\n",
       "      <th>Exited</th>\n",
       "    </tr>\n",
       "  </thead>\n",
       "  <tbody>\n",
       "    <tr>\n",
       "      <th>0</th>\n",
       "      <td>619</td>\n",
       "      <td>France</td>\n",
       "      <td>Female</td>\n",
       "      <td>42</td>\n",
       "      <td>2</td>\n",
       "      <td>0.00</td>\n",
       "      <td>1</td>\n",
       "      <td>1</td>\n",
       "      <td>1</td>\n",
       "      <td>101348.88</td>\n",
       "      <td>1</td>\n",
       "    </tr>\n",
       "    <tr>\n",
       "      <th>1</th>\n",
       "      <td>608</td>\n",
       "      <td>Spain</td>\n",
       "      <td>Female</td>\n",
       "      <td>41</td>\n",
       "      <td>1</td>\n",
       "      <td>83807.86</td>\n",
       "      <td>1</td>\n",
       "      <td>0</td>\n",
       "      <td>1</td>\n",
       "      <td>112542.58</td>\n",
       "      <td>0</td>\n",
       "    </tr>\n",
       "    <tr>\n",
       "      <th>2</th>\n",
       "      <td>502</td>\n",
       "      <td>France</td>\n",
       "      <td>Female</td>\n",
       "      <td>42</td>\n",
       "      <td>8</td>\n",
       "      <td>159660.80</td>\n",
       "      <td>3</td>\n",
       "      <td>1</td>\n",
       "      <td>0</td>\n",
       "      <td>113931.57</td>\n",
       "      <td>1</td>\n",
       "    </tr>\n",
       "    <tr>\n",
       "      <th>3</th>\n",
       "      <td>699</td>\n",
       "      <td>France</td>\n",
       "      <td>Female</td>\n",
       "      <td>39</td>\n",
       "      <td>1</td>\n",
       "      <td>0.00</td>\n",
       "      <td>2</td>\n",
       "      <td>0</td>\n",
       "      <td>0</td>\n",
       "      <td>93826.63</td>\n",
       "      <td>0</td>\n",
       "    </tr>\n",
       "    <tr>\n",
       "      <th>4</th>\n",
       "      <td>850</td>\n",
       "      <td>Spain</td>\n",
       "      <td>Female</td>\n",
       "      <td>43</td>\n",
       "      <td>2</td>\n",
       "      <td>125510.82</td>\n",
       "      <td>1</td>\n",
       "      <td>1</td>\n",
       "      <td>1</td>\n",
       "      <td>79084.10</td>\n",
       "      <td>0</td>\n",
       "    </tr>\n",
       "  </tbody>\n",
       "</table>\n",
       "</div>"
      ],
      "text/plain": [
       "   CreditScore Geography  Gender  Age  Tenure    Balance  NumOfProducts  \\\n",
       "0          619    France  Female   42       2       0.00              1   \n",
       "1          608     Spain  Female   41       1   83807.86              1   \n",
       "2          502    France  Female   42       8  159660.80              3   \n",
       "3          699    France  Female   39       1       0.00              2   \n",
       "4          850     Spain  Female   43       2  125510.82              1   \n",
       "\n",
       "   HasCrCard  IsActiveMember  EstimatedSalary  Exited  \n",
       "0          1               1        101348.88       1  \n",
       "1          0               1        112542.58       0  \n",
       "2          1               0        113931.57       1  \n",
       "3          0               0         93826.63       0  \n",
       "4          1               1         79084.10       0  "
      ]
     },
     "execution_count": 11,
     "metadata": {},
     "output_type": "execute_result"
    }
   ],
   "source": [
    "df.head()"
   ]
  },
  {
   "cell_type": "code",
   "execution_count": 12,
   "id": "625ce5e8",
   "metadata": {
    "execution": {
     "iopub.execute_input": "2024-09-12T18:48:09.368935Z",
     "iopub.status.busy": "2024-09-12T18:48:09.368398Z",
     "iopub.status.idle": "2024-09-12T18:48:09.382066Z",
     "shell.execute_reply": "2024-09-12T18:48:09.380530Z"
    },
    "papermill": {
     "duration": 0.027848,
     "end_time": "2024-09-12T18:48:09.384717",
     "exception": false,
     "start_time": "2024-09-12T18:48:09.356869",
     "status": "completed"
    },
    "tags": []
   },
   "outputs": [],
   "source": [
    "df=pd.get_dummies(df,columns=['Geography','Gender'],drop_first=True)"
   ]
  },
  {
   "cell_type": "code",
   "execution_count": 13,
   "id": "d0e63090",
   "metadata": {
    "execution": {
     "iopub.execute_input": "2024-09-12T18:48:09.405607Z",
     "iopub.status.busy": "2024-09-12T18:48:09.405189Z",
     "iopub.status.idle": "2024-09-12T18:48:11.067442Z",
     "shell.execute_reply": "2024-09-12T18:48:11.066162Z"
    },
    "papermill": {
     "duration": 1.676259,
     "end_time": "2024-09-12T18:48:11.070617",
     "exception": false,
     "start_time": "2024-09-12T18:48:09.394358",
     "status": "completed"
    },
    "tags": []
   },
   "outputs": [],
   "source": [
    "x=df.drop(columns=['Exited'])\n",
    "y=df['Exited']\n",
    "from sklearn.model_selection import train_test_split\n",
    "x_train,x_test,y_train,y_test=train_test_split(x,y,test_size=0.2,random_state=1)"
   ]
  },
  {
   "cell_type": "code",
   "execution_count": 14,
   "id": "8ed00d34",
   "metadata": {
    "execution": {
     "iopub.execute_input": "2024-09-12T18:48:11.098739Z",
     "iopub.status.busy": "2024-09-12T18:48:11.097579Z",
     "iopub.status.idle": "2024-09-12T18:48:11.117853Z",
     "shell.execute_reply": "2024-09-12T18:48:11.116392Z"
    },
    "papermill": {
     "duration": 0.03607,
     "end_time": "2024-09-12T18:48:11.120984",
     "exception": false,
     "start_time": "2024-09-12T18:48:11.084914",
     "status": "completed"
    },
    "tags": []
   },
   "outputs": [
    {
     "data": {
      "text/html": [
       "<div>\n",
       "<style scoped>\n",
       "    .dataframe tbody tr th:only-of-type {\n",
       "        vertical-align: middle;\n",
       "    }\n",
       "\n",
       "    .dataframe tbody tr th {\n",
       "        vertical-align: top;\n",
       "    }\n",
       "\n",
       "    .dataframe thead th {\n",
       "        text-align: right;\n",
       "    }\n",
       "</style>\n",
       "<table border=\"1\" class=\"dataframe\">\n",
       "  <thead>\n",
       "    <tr style=\"text-align: right;\">\n",
       "      <th></th>\n",
       "      <th>CreditScore</th>\n",
       "      <th>Age</th>\n",
       "      <th>Tenure</th>\n",
       "      <th>Balance</th>\n",
       "      <th>NumOfProducts</th>\n",
       "      <th>HasCrCard</th>\n",
       "      <th>IsActiveMember</th>\n",
       "      <th>EstimatedSalary</th>\n",
       "      <th>Geography_Germany</th>\n",
       "      <th>Geography_Spain</th>\n",
       "      <th>Gender_Male</th>\n",
       "    </tr>\n",
       "  </thead>\n",
       "  <tbody>\n",
       "    <tr>\n",
       "      <th>0</th>\n",
       "      <td>619</td>\n",
       "      <td>42</td>\n",
       "      <td>2</td>\n",
       "      <td>0.00</td>\n",
       "      <td>1</td>\n",
       "      <td>1</td>\n",
       "      <td>1</td>\n",
       "      <td>101348.88</td>\n",
       "      <td>False</td>\n",
       "      <td>False</td>\n",
       "      <td>False</td>\n",
       "    </tr>\n",
       "    <tr>\n",
       "      <th>1</th>\n",
       "      <td>608</td>\n",
       "      <td>41</td>\n",
       "      <td>1</td>\n",
       "      <td>83807.86</td>\n",
       "      <td>1</td>\n",
       "      <td>0</td>\n",
       "      <td>1</td>\n",
       "      <td>112542.58</td>\n",
       "      <td>False</td>\n",
       "      <td>True</td>\n",
       "      <td>False</td>\n",
       "    </tr>\n",
       "    <tr>\n",
       "      <th>2</th>\n",
       "      <td>502</td>\n",
       "      <td>42</td>\n",
       "      <td>8</td>\n",
       "      <td>159660.80</td>\n",
       "      <td>3</td>\n",
       "      <td>1</td>\n",
       "      <td>0</td>\n",
       "      <td>113931.57</td>\n",
       "      <td>False</td>\n",
       "      <td>False</td>\n",
       "      <td>False</td>\n",
       "    </tr>\n",
       "    <tr>\n",
       "      <th>3</th>\n",
       "      <td>699</td>\n",
       "      <td>39</td>\n",
       "      <td>1</td>\n",
       "      <td>0.00</td>\n",
       "      <td>2</td>\n",
       "      <td>0</td>\n",
       "      <td>0</td>\n",
       "      <td>93826.63</td>\n",
       "      <td>False</td>\n",
       "      <td>False</td>\n",
       "      <td>False</td>\n",
       "    </tr>\n",
       "    <tr>\n",
       "      <th>4</th>\n",
       "      <td>850</td>\n",
       "      <td>43</td>\n",
       "      <td>2</td>\n",
       "      <td>125510.82</td>\n",
       "      <td>1</td>\n",
       "      <td>1</td>\n",
       "      <td>1</td>\n",
       "      <td>79084.10</td>\n",
       "      <td>False</td>\n",
       "      <td>True</td>\n",
       "      <td>False</td>\n",
       "    </tr>\n",
       "    <tr>\n",
       "      <th>...</th>\n",
       "      <td>...</td>\n",
       "      <td>...</td>\n",
       "      <td>...</td>\n",
       "      <td>...</td>\n",
       "      <td>...</td>\n",
       "      <td>...</td>\n",
       "      <td>...</td>\n",
       "      <td>...</td>\n",
       "      <td>...</td>\n",
       "      <td>...</td>\n",
       "      <td>...</td>\n",
       "    </tr>\n",
       "    <tr>\n",
       "      <th>9995</th>\n",
       "      <td>771</td>\n",
       "      <td>39</td>\n",
       "      <td>5</td>\n",
       "      <td>0.00</td>\n",
       "      <td>2</td>\n",
       "      <td>1</td>\n",
       "      <td>0</td>\n",
       "      <td>96270.64</td>\n",
       "      <td>False</td>\n",
       "      <td>False</td>\n",
       "      <td>True</td>\n",
       "    </tr>\n",
       "    <tr>\n",
       "      <th>9996</th>\n",
       "      <td>516</td>\n",
       "      <td>35</td>\n",
       "      <td>10</td>\n",
       "      <td>57369.61</td>\n",
       "      <td>1</td>\n",
       "      <td>1</td>\n",
       "      <td>1</td>\n",
       "      <td>101699.77</td>\n",
       "      <td>False</td>\n",
       "      <td>False</td>\n",
       "      <td>True</td>\n",
       "    </tr>\n",
       "    <tr>\n",
       "      <th>9997</th>\n",
       "      <td>709</td>\n",
       "      <td>36</td>\n",
       "      <td>7</td>\n",
       "      <td>0.00</td>\n",
       "      <td>1</td>\n",
       "      <td>0</td>\n",
       "      <td>1</td>\n",
       "      <td>42085.58</td>\n",
       "      <td>False</td>\n",
       "      <td>False</td>\n",
       "      <td>False</td>\n",
       "    </tr>\n",
       "    <tr>\n",
       "      <th>9998</th>\n",
       "      <td>772</td>\n",
       "      <td>42</td>\n",
       "      <td>3</td>\n",
       "      <td>75075.31</td>\n",
       "      <td>2</td>\n",
       "      <td>1</td>\n",
       "      <td>0</td>\n",
       "      <td>92888.52</td>\n",
       "      <td>True</td>\n",
       "      <td>False</td>\n",
       "      <td>True</td>\n",
       "    </tr>\n",
       "    <tr>\n",
       "      <th>9999</th>\n",
       "      <td>792</td>\n",
       "      <td>28</td>\n",
       "      <td>4</td>\n",
       "      <td>130142.79</td>\n",
       "      <td>1</td>\n",
       "      <td>1</td>\n",
       "      <td>0</td>\n",
       "      <td>38190.78</td>\n",
       "      <td>False</td>\n",
       "      <td>False</td>\n",
       "      <td>False</td>\n",
       "    </tr>\n",
       "  </tbody>\n",
       "</table>\n",
       "<p>10000 rows × 11 columns</p>\n",
       "</div>"
      ],
      "text/plain": [
       "      CreditScore  Age  Tenure    Balance  NumOfProducts  HasCrCard  \\\n",
       "0             619   42       2       0.00              1          1   \n",
       "1             608   41       1   83807.86              1          0   \n",
       "2             502   42       8  159660.80              3          1   \n",
       "3             699   39       1       0.00              2          0   \n",
       "4             850   43       2  125510.82              1          1   \n",
       "...           ...  ...     ...        ...            ...        ...   \n",
       "9995          771   39       5       0.00              2          1   \n",
       "9996          516   35      10   57369.61              1          1   \n",
       "9997          709   36       7       0.00              1          0   \n",
       "9998          772   42       3   75075.31              2          1   \n",
       "9999          792   28       4  130142.79              1          1   \n",
       "\n",
       "      IsActiveMember  EstimatedSalary  Geography_Germany  Geography_Spain  \\\n",
       "0                  1        101348.88              False            False   \n",
       "1                  1        112542.58              False             True   \n",
       "2                  0        113931.57              False            False   \n",
       "3                  0         93826.63              False            False   \n",
       "4                  1         79084.10              False             True   \n",
       "...              ...              ...                ...              ...   \n",
       "9995               0         96270.64              False            False   \n",
       "9996               1        101699.77              False            False   \n",
       "9997               1         42085.58              False            False   \n",
       "9998               0         92888.52               True            False   \n",
       "9999               0         38190.78              False            False   \n",
       "\n",
       "      Gender_Male  \n",
       "0           False  \n",
       "1           False  \n",
       "2           False  \n",
       "3           False  \n",
       "4           False  \n",
       "...           ...  \n",
       "9995         True  \n",
       "9996         True  \n",
       "9997        False  \n",
       "9998         True  \n",
       "9999        False  \n",
       "\n",
       "[10000 rows x 11 columns]"
      ]
     },
     "execution_count": 14,
     "metadata": {},
     "output_type": "execute_result"
    }
   ],
   "source": [
    "x"
   ]
  },
  {
   "cell_type": "code",
   "execution_count": 15,
   "id": "9aa6c0d0",
   "metadata": {
    "execution": {
     "iopub.execute_input": "2024-09-12T18:48:11.150422Z",
     "iopub.status.busy": "2024-09-12T18:48:11.149976Z",
     "iopub.status.idle": "2024-09-12T18:48:11.159149Z",
     "shell.execute_reply": "2024-09-12T18:48:11.157918Z"
    },
    "papermill": {
     "duration": 0.024872,
     "end_time": "2024-09-12T18:48:11.161461",
     "exception": false,
     "start_time": "2024-09-12T18:48:11.136589",
     "status": "completed"
    },
    "tags": []
   },
   "outputs": [
    {
     "data": {
      "text/plain": [
       "0       1\n",
       "1       0\n",
       "2       1\n",
       "3       0\n",
       "4       0\n",
       "       ..\n",
       "9995    0\n",
       "9996    0\n",
       "9997    1\n",
       "9998    1\n",
       "9999    0\n",
       "Name: Exited, Length: 10000, dtype: int64"
      ]
     },
     "execution_count": 15,
     "metadata": {},
     "output_type": "execute_result"
    }
   ],
   "source": [
    "y"
   ]
  },
  {
   "cell_type": "code",
   "execution_count": 16,
   "id": "72b4ba5e",
   "metadata": {
    "execution": {
     "iopub.execute_input": "2024-09-12T18:48:11.182932Z",
     "iopub.status.busy": "2024-09-12T18:48:11.182393Z",
     "iopub.status.idle": "2024-09-12T18:48:11.190340Z",
     "shell.execute_reply": "2024-09-12T18:48:11.189216Z"
    },
    "papermill": {
     "duration": 0.021655,
     "end_time": "2024-09-12T18:48:11.192832",
     "exception": false,
     "start_time": "2024-09-12T18:48:11.171177",
     "status": "completed"
    },
    "tags": []
   },
   "outputs": [
    {
     "data": {
      "text/plain": [
       "(8000, 11)"
      ]
     },
     "execution_count": 16,
     "metadata": {},
     "output_type": "execute_result"
    }
   ],
   "source": [
    "x_train.shape"
   ]
  },
  {
   "cell_type": "code",
   "execution_count": 17,
   "id": "c130c271",
   "metadata": {
    "execution": {
     "iopub.execute_input": "2024-09-12T18:48:11.214844Z",
     "iopub.status.busy": "2024-09-12T18:48:11.213727Z",
     "iopub.status.idle": "2024-09-12T18:48:11.237270Z",
     "shell.execute_reply": "2024-09-12T18:48:11.236119Z"
    },
    "papermill": {
     "duration": 0.037309,
     "end_time": "2024-09-12T18:48:11.239858",
     "exception": false,
     "start_time": "2024-09-12T18:48:11.202549",
     "status": "completed"
    },
    "tags": []
   },
   "outputs": [],
   "source": [
    "from sklearn.preprocessing import StandardScaler\n",
    "scaler=StandardScaler()\n",
    "x_train_scaled=scaler.fit_transform(x_train)\n",
    "x_test_scaled=scaler.transform(x_test)"
   ]
  },
  {
   "cell_type": "code",
   "execution_count": 18,
   "id": "c87bf559",
   "metadata": {
    "execution": {
     "iopub.execute_input": "2024-09-12T18:48:11.261031Z",
     "iopub.status.busy": "2024-09-12T18:48:11.260498Z",
     "iopub.status.idle": "2024-09-12T18:48:11.269616Z",
     "shell.execute_reply": "2024-09-12T18:48:11.268431Z"
    },
    "papermill": {
     "duration": 0.022436,
     "end_time": "2024-09-12T18:48:11.271919",
     "exception": false,
     "start_time": "2024-09-12T18:48:11.249483",
     "status": "completed"
    },
    "tags": []
   },
   "outputs": [
    {
     "data": {
      "text/plain": [
       "array([[-0.23082038, -0.94449979, -0.70174202, ...,  1.71490137,\n",
       "        -0.57273139,  0.91509065],\n",
       "       [-0.25150912, -0.94449979, -0.35520275, ..., -0.58312392,\n",
       "        -0.57273139, -1.09278791],\n",
       "       [-0.3963303 ,  0.77498705,  0.33787579, ...,  1.71490137,\n",
       "        -0.57273139, -1.09278791],\n",
       "       ...,\n",
       "       [ 0.22433188,  0.58393295,  1.3774936 , ..., -0.58312392,\n",
       "        -0.57273139, -1.09278791],\n",
       "       [ 0.13123255,  0.01077067,  1.03095433, ..., -0.58312392,\n",
       "        -0.57273139, -1.09278791],\n",
       "       [ 1.1656695 ,  0.29735181,  0.33787579, ...,  1.71490137,\n",
       "        -0.57273139,  0.91509065]])"
      ]
     },
     "execution_count": 18,
     "metadata": {},
     "output_type": "execute_result"
    }
   ],
   "source": [
    "x_train_scaled"
   ]
  },
  {
   "cell_type": "code",
   "execution_count": 19,
   "id": "15298454",
   "metadata": {
    "execution": {
     "iopub.execute_input": "2024-09-12T18:48:11.292988Z",
     "iopub.status.busy": "2024-09-12T18:48:11.292556Z",
     "iopub.status.idle": "2024-09-12T18:48:25.934327Z",
     "shell.execute_reply": "2024-09-12T18:48:25.932970Z"
    },
    "papermill": {
     "duration": 14.655331,
     "end_time": "2024-09-12T18:48:25.936929",
     "exception": false,
     "start_time": "2024-09-12T18:48:11.281598",
     "status": "completed"
    },
    "tags": []
   },
   "outputs": [],
   "source": [
    "import tensorflow\n",
    "from tensorflow import keras\n",
    "from tensorflow.keras import Sequential\n",
    "from tensorflow.keras.layers import Dense"
   ]
  },
  {
   "cell_type": "code",
   "execution_count": 20,
   "id": "9aea3166",
   "metadata": {
    "execution": {
     "iopub.execute_input": "2024-09-12T18:48:25.958812Z",
     "iopub.status.busy": "2024-09-12T18:48:25.958117Z",
     "iopub.status.idle": "2024-09-12T18:48:26.051606Z",
     "shell.execute_reply": "2024-09-12T18:48:26.050361Z"
    },
    "papermill": {
     "duration": 0.107113,
     "end_time": "2024-09-12T18:48:26.054047",
     "exception": false,
     "start_time": "2024-09-12T18:48:25.946934",
     "status": "completed"
    },
    "tags": []
   },
   "outputs": [
    {
     "name": "stderr",
     "output_type": "stream",
     "text": [
      "/opt/conda/lib/python3.10/site-packages/keras/src/layers/core/dense.py:87: UserWarning: Do not pass an `input_shape`/`input_dim` argument to a layer. When using Sequential models, prefer using an `Input(shape)` object as the first layer in the model instead.\n",
      "  super().__init__(activity_regularizer=activity_regularizer, **kwargs)\n"
     ]
    }
   ],
   "source": [
    "model=Sequential()\n",
    "model.add(Dense(11,activation='relu',input_dim=11))\n",
    "model.add(Dense(11,activation='relu'))\n",
    "model.add(Dense(1,activation='sigmoid'))"
   ]
  },
  {
   "cell_type": "code",
   "execution_count": 21,
   "id": "6628af42",
   "metadata": {
    "execution": {
     "iopub.execute_input": "2024-09-12T18:48:26.075365Z",
     "iopub.status.busy": "2024-09-12T18:48:26.074935Z",
     "iopub.status.idle": "2024-09-12T18:48:26.096710Z",
     "shell.execute_reply": "2024-09-12T18:48:26.095660Z"
    },
    "papermill": {
     "duration": 0.035077,
     "end_time": "2024-09-12T18:48:26.098971",
     "exception": false,
     "start_time": "2024-09-12T18:48:26.063894",
     "status": "completed"
    },
    "tags": []
   },
   "outputs": [
    {
     "data": {
      "text/html": [
       "<pre style=\"white-space:pre;overflow-x:auto;line-height:normal;font-family:Menlo,'DejaVu Sans Mono',consolas,'Courier New',monospace\"><span style=\"font-weight: bold\">Model: \"sequential\"</span>\n",
       "</pre>\n"
      ],
      "text/plain": [
       "\u001b[1mModel: \"sequential\"\u001b[0m\n"
      ]
     },
     "metadata": {},
     "output_type": "display_data"
    },
    {
     "data": {
      "text/html": [
       "<pre style=\"white-space:pre;overflow-x:auto;line-height:normal;font-family:Menlo,'DejaVu Sans Mono',consolas,'Courier New',monospace\">┏━━━━━━━━━━━━━━━━━━━━━━━━━━━━━━━━━┳━━━━━━━━━━━━━━━━━━━━━━━━┳━━━━━━━━━━━━━━━┓\n",
       "┃<span style=\"font-weight: bold\"> Layer (type)                    </span>┃<span style=\"font-weight: bold\"> Output Shape           </span>┃<span style=\"font-weight: bold\">       Param # </span>┃\n",
       "┡━━━━━━━━━━━━━━━━━━━━━━━━━━━━━━━━━╇━━━━━━━━━━━━━━━━━━━━━━━━╇━━━━━━━━━━━━━━━┩\n",
       "│ dense (<span style=\"color: #0087ff; text-decoration-color: #0087ff\">Dense</span>)                   │ (<span style=\"color: #00d7ff; text-decoration-color: #00d7ff\">None</span>, <span style=\"color: #00af00; text-decoration-color: #00af00\">11</span>)             │           <span style=\"color: #00af00; text-decoration-color: #00af00\">132</span> │\n",
       "├─────────────────────────────────┼────────────────────────┼───────────────┤\n",
       "│ dense_1 (<span style=\"color: #0087ff; text-decoration-color: #0087ff\">Dense</span>)                 │ (<span style=\"color: #00d7ff; text-decoration-color: #00d7ff\">None</span>, <span style=\"color: #00af00; text-decoration-color: #00af00\">11</span>)             │           <span style=\"color: #00af00; text-decoration-color: #00af00\">132</span> │\n",
       "├─────────────────────────────────┼────────────────────────┼───────────────┤\n",
       "│ dense_2 (<span style=\"color: #0087ff; text-decoration-color: #0087ff\">Dense</span>)                 │ (<span style=\"color: #00d7ff; text-decoration-color: #00d7ff\">None</span>, <span style=\"color: #00af00; text-decoration-color: #00af00\">1</span>)              │            <span style=\"color: #00af00; text-decoration-color: #00af00\">12</span> │\n",
       "└─────────────────────────────────┴────────────────────────┴───────────────┘\n",
       "</pre>\n"
      ],
      "text/plain": [
       "┏━━━━━━━━━━━━━━━━━━━━━━━━━━━━━━━━━┳━━━━━━━━━━━━━━━━━━━━━━━━┳━━━━━━━━━━━━━━━┓\n",
       "┃\u001b[1m \u001b[0m\u001b[1mLayer (type)                   \u001b[0m\u001b[1m \u001b[0m┃\u001b[1m \u001b[0m\u001b[1mOutput Shape          \u001b[0m\u001b[1m \u001b[0m┃\u001b[1m \u001b[0m\u001b[1m      Param #\u001b[0m\u001b[1m \u001b[0m┃\n",
       "┡━━━━━━━━━━━━━━━━━━━━━━━━━━━━━━━━━╇━━━━━━━━━━━━━━━━━━━━━━━━╇━━━━━━━━━━━━━━━┩\n",
       "│ dense (\u001b[38;5;33mDense\u001b[0m)                   │ (\u001b[38;5;45mNone\u001b[0m, \u001b[38;5;34m11\u001b[0m)             │           \u001b[38;5;34m132\u001b[0m │\n",
       "├─────────────────────────────────┼────────────────────────┼───────────────┤\n",
       "│ dense_1 (\u001b[38;5;33mDense\u001b[0m)                 │ (\u001b[38;5;45mNone\u001b[0m, \u001b[38;5;34m11\u001b[0m)             │           \u001b[38;5;34m132\u001b[0m │\n",
       "├─────────────────────────────────┼────────────────────────┼───────────────┤\n",
       "│ dense_2 (\u001b[38;5;33mDense\u001b[0m)                 │ (\u001b[38;5;45mNone\u001b[0m, \u001b[38;5;34m1\u001b[0m)              │            \u001b[38;5;34m12\u001b[0m │\n",
       "└─────────────────────────────────┴────────────────────────┴───────────────┘\n"
      ]
     },
     "metadata": {},
     "output_type": "display_data"
    },
    {
     "data": {
      "text/html": [
       "<pre style=\"white-space:pre;overflow-x:auto;line-height:normal;font-family:Menlo,'DejaVu Sans Mono',consolas,'Courier New',monospace\"><span style=\"font-weight: bold\"> Total params: </span><span style=\"color: #00af00; text-decoration-color: #00af00\">276</span> (1.08 KB)\n",
       "</pre>\n"
      ],
      "text/plain": [
       "\u001b[1m Total params: \u001b[0m\u001b[38;5;34m276\u001b[0m (1.08 KB)\n"
      ]
     },
     "metadata": {},
     "output_type": "display_data"
    },
    {
     "data": {
      "text/html": [
       "<pre style=\"white-space:pre;overflow-x:auto;line-height:normal;font-family:Menlo,'DejaVu Sans Mono',consolas,'Courier New',monospace\"><span style=\"font-weight: bold\"> Trainable params: </span><span style=\"color: #00af00; text-decoration-color: #00af00\">276</span> (1.08 KB)\n",
       "</pre>\n"
      ],
      "text/plain": [
       "\u001b[1m Trainable params: \u001b[0m\u001b[38;5;34m276\u001b[0m (1.08 KB)\n"
      ]
     },
     "metadata": {},
     "output_type": "display_data"
    },
    {
     "data": {
      "text/html": [
       "<pre style=\"white-space:pre;overflow-x:auto;line-height:normal;font-family:Menlo,'DejaVu Sans Mono',consolas,'Courier New',monospace\"><span style=\"font-weight: bold\"> Non-trainable params: </span><span style=\"color: #00af00; text-decoration-color: #00af00\">0</span> (0.00 B)\n",
       "</pre>\n"
      ],
      "text/plain": [
       "\u001b[1m Non-trainable params: \u001b[0m\u001b[38;5;34m0\u001b[0m (0.00 B)\n"
      ]
     },
     "metadata": {},
     "output_type": "display_data"
    }
   ],
   "source": [
    "model.summary()"
   ]
  },
  {
   "cell_type": "code",
   "execution_count": 22,
   "id": "52a7dde8",
   "metadata": {
    "execution": {
     "iopub.execute_input": "2024-09-12T18:48:26.121889Z",
     "iopub.status.busy": "2024-09-12T18:48:26.121426Z",
     "iopub.status.idle": "2024-09-12T18:48:26.136532Z",
     "shell.execute_reply": "2024-09-12T18:48:26.135355Z"
    },
    "papermill": {
     "duration": 0.029364,
     "end_time": "2024-09-12T18:48:26.139034",
     "exception": false,
     "start_time": "2024-09-12T18:48:26.109670",
     "status": "completed"
    },
    "tags": []
   },
   "outputs": [],
   "source": [
    "model.compile(loss='binary_crossentropy',optimizer='adam',metrics=['accuracy'])"
   ]
  },
  {
   "cell_type": "code",
   "execution_count": 23,
   "id": "5ba394c0",
   "metadata": {
    "execution": {
     "iopub.execute_input": "2024-09-12T18:48:26.163859Z",
     "iopub.status.busy": "2024-09-12T18:48:26.162641Z",
     "iopub.status.idle": "2024-09-12T18:48:57.962671Z",
     "shell.execute_reply": "2024-09-12T18:48:57.961450Z"
    },
    "papermill": {
     "duration": 31.814807,
     "end_time": "2024-09-12T18:48:57.965149",
     "exception": false,
     "start_time": "2024-09-12T18:48:26.150342",
     "status": "completed"
    },
    "tags": []
   },
   "outputs": [
    {
     "name": "stdout",
     "output_type": "stream",
     "text": [
      "Epoch 1/80\n",
      "\u001b[1m200/200\u001b[0m \u001b[32m━━━━━━━━━━━━━━━━━━━━\u001b[0m\u001b[37m\u001b[0m \u001b[1m2s\u001b[0m 3ms/step - accuracy: 0.7972 - loss: 0.5066 - val_accuracy: 0.8000 - val_loss: 0.4675\n",
      "Epoch 2/80\n",
      "\u001b[1m200/200\u001b[0m \u001b[32m━━━━━━━━━━━━━━━━━━━━\u001b[0m\u001b[37m\u001b[0m \u001b[1m0s\u001b[0m 2ms/step - accuracy: 0.7933 - loss: 0.4648 - val_accuracy: 0.8087 - val_loss: 0.4491\n",
      "Epoch 3/80\n",
      "\u001b[1m200/200\u001b[0m \u001b[32m━━━━━━━━━━━━━━━━━━━━\u001b[0m\u001b[37m\u001b[0m \u001b[1m0s\u001b[0m 2ms/step - accuracy: 0.8134 - loss: 0.4330 - val_accuracy: 0.8163 - val_loss: 0.4397\n",
      "Epoch 4/80\n",
      "\u001b[1m200/200\u001b[0m \u001b[32m━━━━━━━━━━━━━━━━━━━━\u001b[0m\u001b[37m\u001b[0m \u001b[1m0s\u001b[0m 2ms/step - accuracy: 0.8310 - loss: 0.4112 - val_accuracy: 0.8231 - val_loss: 0.4347\n",
      "Epoch 5/80\n",
      "\u001b[1m200/200\u001b[0m \u001b[32m━━━━━━━━━━━━━━━━━━━━\u001b[0m\u001b[37m\u001b[0m \u001b[1m0s\u001b[0m 2ms/step - accuracy: 0.8307 - loss: 0.4190 - val_accuracy: 0.8256 - val_loss: 0.4281\n",
      "Epoch 6/80\n",
      "\u001b[1m200/200\u001b[0m \u001b[32m━━━━━━━━━━━━━━━━━━━━\u001b[0m\u001b[37m\u001b[0m \u001b[1m0s\u001b[0m 2ms/step - accuracy: 0.8379 - loss: 0.4036 - val_accuracy: 0.8288 - val_loss: 0.4217\n",
      "Epoch 7/80\n",
      "\u001b[1m200/200\u001b[0m \u001b[32m━━━━━━━━━━━━━━━━━━━━\u001b[0m\u001b[37m\u001b[0m \u001b[1m0s\u001b[0m 2ms/step - accuracy: 0.8322 - loss: 0.4149 - val_accuracy: 0.8294 - val_loss: 0.4155\n",
      "Epoch 8/80\n",
      "\u001b[1m200/200\u001b[0m \u001b[32m━━━━━━━━━━━━━━━━━━━━\u001b[0m\u001b[37m\u001b[0m \u001b[1m0s\u001b[0m 2ms/step - accuracy: 0.8337 - loss: 0.3960 - val_accuracy: 0.8294 - val_loss: 0.4082\n",
      "Epoch 9/80\n",
      "\u001b[1m200/200\u001b[0m \u001b[32m━━━━━━━━━━━━━━━━━━━━\u001b[0m\u001b[37m\u001b[0m \u001b[1m0s\u001b[0m 2ms/step - accuracy: 0.8447 - loss: 0.3907 - val_accuracy: 0.8325 - val_loss: 0.4006\n",
      "Epoch 10/80\n",
      "\u001b[1m200/200\u001b[0m \u001b[32m━━━━━━━━━━━━━━━━━━━━\u001b[0m\u001b[37m\u001b[0m \u001b[1m0s\u001b[0m 2ms/step - accuracy: 0.8389 - loss: 0.3861 - val_accuracy: 0.8375 - val_loss: 0.3901\n",
      "Epoch 11/80\n",
      "\u001b[1m200/200\u001b[0m \u001b[32m━━━━━━━━━━━━━━━━━━━━\u001b[0m\u001b[37m\u001b[0m \u001b[1m0s\u001b[0m 2ms/step - accuracy: 0.8492 - loss: 0.3739 - val_accuracy: 0.8425 - val_loss: 0.3812\n",
      "Epoch 12/80\n",
      "\u001b[1m200/200\u001b[0m \u001b[32m━━━━━━━━━━━━━━━━━━━━\u001b[0m\u001b[37m\u001b[0m \u001b[1m0s\u001b[0m 2ms/step - accuracy: 0.8478 - loss: 0.3738 - val_accuracy: 0.8462 - val_loss: 0.3711\n",
      "Epoch 13/80\n",
      "\u001b[1m200/200\u001b[0m \u001b[32m━━━━━━━━━━━━━━━━━━━━\u001b[0m\u001b[37m\u001b[0m \u001b[1m0s\u001b[0m 2ms/step - accuracy: 0.8503 - loss: 0.3646 - val_accuracy: 0.8494 - val_loss: 0.3653\n",
      "Epoch 14/80\n",
      "\u001b[1m200/200\u001b[0m \u001b[32m━━━━━━━━━━━━━━━━━━━━\u001b[0m\u001b[37m\u001b[0m \u001b[1m0s\u001b[0m 2ms/step - accuracy: 0.8512 - loss: 0.3569 - val_accuracy: 0.8531 - val_loss: 0.3605\n",
      "Epoch 15/80\n",
      "\u001b[1m200/200\u001b[0m \u001b[32m━━━━━━━━━━━━━━━━━━━━\u001b[0m\u001b[37m\u001b[0m \u001b[1m0s\u001b[0m 2ms/step - accuracy: 0.8514 - loss: 0.3564 - val_accuracy: 0.8519 - val_loss: 0.3603\n",
      "Epoch 16/80\n",
      "\u001b[1m200/200\u001b[0m \u001b[32m━━━━━━━━━━━━━━━━━━━━\u001b[0m\u001b[37m\u001b[0m \u001b[1m0s\u001b[0m 2ms/step - accuracy: 0.8567 - loss: 0.3522 - val_accuracy: 0.8506 - val_loss: 0.3566\n",
      "Epoch 17/80\n",
      "\u001b[1m200/200\u001b[0m \u001b[32m━━━━━━━━━━━━━━━━━━━━\u001b[0m\u001b[37m\u001b[0m \u001b[1m0s\u001b[0m 2ms/step - accuracy: 0.8621 - loss: 0.3415 - val_accuracy: 0.8550 - val_loss: 0.3557\n",
      "Epoch 18/80\n",
      "\u001b[1m200/200\u001b[0m \u001b[32m━━━━━━━━━━━━━━━━━━━━\u001b[0m\u001b[37m\u001b[0m \u001b[1m0s\u001b[0m 2ms/step - accuracy: 0.8635 - loss: 0.3411 - val_accuracy: 0.8512 - val_loss: 0.3530\n",
      "Epoch 19/80\n",
      "\u001b[1m200/200\u001b[0m \u001b[32m━━━━━━━━━━━━━━━━━━━━\u001b[0m\u001b[37m\u001b[0m \u001b[1m0s\u001b[0m 2ms/step - accuracy: 0.8589 - loss: 0.3439 - val_accuracy: 0.8537 - val_loss: 0.3538\n",
      "Epoch 20/80\n",
      "\u001b[1m200/200\u001b[0m \u001b[32m━━━━━━━━━━━━━━━━━━━━\u001b[0m\u001b[37m\u001b[0m \u001b[1m0s\u001b[0m 2ms/step - accuracy: 0.8678 - loss: 0.3339 - val_accuracy: 0.8537 - val_loss: 0.3513\n",
      "Epoch 21/80\n",
      "\u001b[1m200/200\u001b[0m \u001b[32m━━━━━━━━━━━━━━━━━━━━\u001b[0m\u001b[37m\u001b[0m \u001b[1m0s\u001b[0m 2ms/step - accuracy: 0.8586 - loss: 0.3407 - val_accuracy: 0.8519 - val_loss: 0.3522\n",
      "Epoch 22/80\n",
      "\u001b[1m200/200\u001b[0m \u001b[32m━━━━━━━━━━━━━━━━━━━━\u001b[0m\u001b[37m\u001b[0m \u001b[1m0s\u001b[0m 2ms/step - accuracy: 0.8598 - loss: 0.3444 - val_accuracy: 0.8506 - val_loss: 0.3507\n",
      "Epoch 23/80\n",
      "\u001b[1m200/200\u001b[0m \u001b[32m━━━━━━━━━━━━━━━━━━━━\u001b[0m\u001b[37m\u001b[0m \u001b[1m0s\u001b[0m 2ms/step - accuracy: 0.8693 - loss: 0.3338 - val_accuracy: 0.8544 - val_loss: 0.3513\n",
      "Epoch 24/80\n",
      "\u001b[1m200/200\u001b[0m \u001b[32m━━━━━━━━━━━━━━━━━━━━\u001b[0m\u001b[37m\u001b[0m \u001b[1m0s\u001b[0m 2ms/step - accuracy: 0.8653 - loss: 0.3356 - val_accuracy: 0.8519 - val_loss: 0.3509\n",
      "Epoch 25/80\n",
      "\u001b[1m200/200\u001b[0m \u001b[32m━━━━━━━━━━━━━━━━━━━━\u001b[0m\u001b[37m\u001b[0m \u001b[1m0s\u001b[0m 2ms/step - accuracy: 0.8641 - loss: 0.3328 - val_accuracy: 0.8537 - val_loss: 0.3501\n",
      "Epoch 26/80\n",
      "\u001b[1m200/200\u001b[0m \u001b[32m━━━━━━━━━━━━━━━━━━━━\u001b[0m\u001b[37m\u001b[0m \u001b[1m0s\u001b[0m 2ms/step - accuracy: 0.8591 - loss: 0.3406 - val_accuracy: 0.8537 - val_loss: 0.3498\n",
      "Epoch 27/80\n",
      "\u001b[1m200/200\u001b[0m \u001b[32m━━━━━━━━━━━━━━━━━━━━\u001b[0m\u001b[37m\u001b[0m \u001b[1m0s\u001b[0m 2ms/step - accuracy: 0.8686 - loss: 0.3248 - val_accuracy: 0.8544 - val_loss: 0.3486\n",
      "Epoch 28/80\n",
      "\u001b[1m200/200\u001b[0m \u001b[32m━━━━━━━━━━━━━━━━━━━━\u001b[0m\u001b[37m\u001b[0m \u001b[1m0s\u001b[0m 2ms/step - accuracy: 0.8664 - loss: 0.3328 - val_accuracy: 0.8537 - val_loss: 0.3488\n",
      "Epoch 29/80\n",
      "\u001b[1m200/200\u001b[0m \u001b[32m━━━━━━━━━━━━━━━━━━━━\u001b[0m\u001b[37m\u001b[0m \u001b[1m0s\u001b[0m 2ms/step - accuracy: 0.8644 - loss: 0.3384 - val_accuracy: 0.8525 - val_loss: 0.3480\n",
      "Epoch 30/80\n",
      "\u001b[1m200/200\u001b[0m \u001b[32m━━━━━━━━━━━━━━━━━━━━\u001b[0m\u001b[37m\u001b[0m \u001b[1m0s\u001b[0m 2ms/step - accuracy: 0.8693 - loss: 0.3251 - val_accuracy: 0.8519 - val_loss: 0.3494\n",
      "Epoch 31/80\n",
      "\u001b[1m200/200\u001b[0m \u001b[32m━━━━━━━━━━━━━━━━━━━━\u001b[0m\u001b[37m\u001b[0m \u001b[1m0s\u001b[0m 2ms/step - accuracy: 0.8619 - loss: 0.3314 - val_accuracy: 0.8525 - val_loss: 0.3478\n",
      "Epoch 32/80\n",
      "\u001b[1m200/200\u001b[0m \u001b[32m━━━━━━━━━━━━━━━━━━━━\u001b[0m\u001b[37m\u001b[0m \u001b[1m0s\u001b[0m 2ms/step - accuracy: 0.8647 - loss: 0.3260 - val_accuracy: 0.8500 - val_loss: 0.3496\n",
      "Epoch 33/80\n",
      "\u001b[1m200/200\u001b[0m \u001b[32m━━━━━━━━━━━━━━━━━━━━\u001b[0m\u001b[37m\u001b[0m \u001b[1m0s\u001b[0m 2ms/step - accuracy: 0.8623 - loss: 0.3327 - val_accuracy: 0.8512 - val_loss: 0.3481\n",
      "Epoch 34/80\n",
      "\u001b[1m200/200\u001b[0m \u001b[32m━━━━━━━━━━━━━━━━━━━━\u001b[0m\u001b[37m\u001b[0m \u001b[1m0s\u001b[0m 2ms/step - accuracy: 0.8627 - loss: 0.3294 - val_accuracy: 0.8506 - val_loss: 0.3485\n",
      "Epoch 35/80\n",
      "\u001b[1m200/200\u001b[0m \u001b[32m━━━━━━━━━━━━━━━━━━━━\u001b[0m\u001b[37m\u001b[0m \u001b[1m0s\u001b[0m 2ms/step - accuracy: 0.8672 - loss: 0.3246 - val_accuracy: 0.8531 - val_loss: 0.3474\n",
      "Epoch 36/80\n",
      "\u001b[1m200/200\u001b[0m \u001b[32m━━━━━━━━━━━━━━━━━━━━\u001b[0m\u001b[37m\u001b[0m \u001b[1m0s\u001b[0m 2ms/step - accuracy: 0.8709 - loss: 0.3194 - val_accuracy: 0.8494 - val_loss: 0.3473\n",
      "Epoch 37/80\n",
      "\u001b[1m200/200\u001b[0m \u001b[32m━━━━━━━━━━━━━━━━━━━━\u001b[0m\u001b[37m\u001b[0m \u001b[1m0s\u001b[0m 2ms/step - accuracy: 0.8588 - loss: 0.3449 - val_accuracy: 0.8531 - val_loss: 0.3466\n",
      "Epoch 38/80\n",
      "\u001b[1m200/200\u001b[0m \u001b[32m━━━━━━━━━━━━━━━━━━━━\u001b[0m\u001b[37m\u001b[0m \u001b[1m0s\u001b[0m 2ms/step - accuracy: 0.8603 - loss: 0.3315 - val_accuracy: 0.8512 - val_loss: 0.3472\n",
      "Epoch 39/80\n",
      "\u001b[1m200/200\u001b[0m \u001b[32m━━━━━━━━━━━━━━━━━━━━\u001b[0m\u001b[37m\u001b[0m \u001b[1m0s\u001b[0m 2ms/step - accuracy: 0.8707 - loss: 0.3212 - val_accuracy: 0.8537 - val_loss: 0.3467\n",
      "Epoch 40/80\n",
      "\u001b[1m200/200\u001b[0m \u001b[32m━━━━━━━━━━━━━━━━━━━━\u001b[0m\u001b[37m\u001b[0m \u001b[1m0s\u001b[0m 2ms/step - accuracy: 0.8663 - loss: 0.3233 - val_accuracy: 0.8512 - val_loss: 0.3481\n",
      "Epoch 41/80\n",
      "\u001b[1m200/200\u001b[0m \u001b[32m━━━━━━━━━━━━━━━━━━━━\u001b[0m\u001b[37m\u001b[0m \u001b[1m0s\u001b[0m 2ms/step - accuracy: 0.8686 - loss: 0.3235 - val_accuracy: 0.8537 - val_loss: 0.3468\n",
      "Epoch 42/80\n",
      "\u001b[1m200/200\u001b[0m \u001b[32m━━━━━━━━━━━━━━━━━━━━\u001b[0m\u001b[37m\u001b[0m \u001b[1m1s\u001b[0m 2ms/step - accuracy: 0.8557 - loss: 0.3373 - val_accuracy: 0.8500 - val_loss: 0.3486\n",
      "Epoch 43/80\n",
      "\u001b[1m200/200\u001b[0m \u001b[32m━━━━━━━━━━━━━━━━━━━━\u001b[0m\u001b[37m\u001b[0m \u001b[1m1s\u001b[0m 2ms/step - accuracy: 0.8633 - loss: 0.3326 - val_accuracy: 0.8525 - val_loss: 0.3471\n",
      "Epoch 44/80\n",
      "\u001b[1m200/200\u001b[0m \u001b[32m━━━━━━━━━━━━━━━━━━━━\u001b[0m\u001b[37m\u001b[0m \u001b[1m0s\u001b[0m 2ms/step - accuracy: 0.8666 - loss: 0.3242 - val_accuracy: 0.8487 - val_loss: 0.3482\n",
      "Epoch 45/80\n",
      "\u001b[1m200/200\u001b[0m \u001b[32m━━━━━━━━━━━━━━━━━━━━\u001b[0m\u001b[37m\u001b[0m \u001b[1m0s\u001b[0m 2ms/step - accuracy: 0.8754 - loss: 0.3082 - val_accuracy: 0.8531 - val_loss: 0.3461\n",
      "Epoch 46/80\n",
      "\u001b[1m200/200\u001b[0m \u001b[32m━━━━━━━━━━━━━━━━━━━━\u001b[0m\u001b[37m\u001b[0m \u001b[1m0s\u001b[0m 2ms/step - accuracy: 0.8718 - loss: 0.3209 - val_accuracy: 0.8525 - val_loss: 0.3455\n",
      "Epoch 47/80\n",
      "\u001b[1m200/200\u001b[0m \u001b[32m━━━━━━━━━━━━━━━━━━━━\u001b[0m\u001b[37m\u001b[0m \u001b[1m0s\u001b[0m 2ms/step - accuracy: 0.8656 - loss: 0.3294 - val_accuracy: 0.8506 - val_loss: 0.3496\n",
      "Epoch 48/80\n",
      "\u001b[1m200/200\u001b[0m \u001b[32m━━━━━━━━━━━━━━━━━━━━\u001b[0m\u001b[37m\u001b[0m \u001b[1m1s\u001b[0m 2ms/step - accuracy: 0.8697 - loss: 0.3170 - val_accuracy: 0.8525 - val_loss: 0.3469\n",
      "Epoch 49/80\n",
      "\u001b[1m200/200\u001b[0m \u001b[32m━━━━━━━━━━━━━━━━━━━━\u001b[0m\u001b[37m\u001b[0m \u001b[1m0s\u001b[0m 2ms/step - accuracy: 0.8695 - loss: 0.3242 - val_accuracy: 0.8525 - val_loss: 0.3464\n",
      "Epoch 50/80\n",
      "\u001b[1m200/200\u001b[0m \u001b[32m━━━━━━━━━━━━━━━━━━━━\u001b[0m\u001b[37m\u001b[0m \u001b[1m0s\u001b[0m 2ms/step - accuracy: 0.8631 - loss: 0.3305 - val_accuracy: 0.8544 - val_loss: 0.3469\n",
      "Epoch 51/80\n",
      "\u001b[1m200/200\u001b[0m \u001b[32m━━━━━━━━━━━━━━━━━━━━\u001b[0m\u001b[37m\u001b[0m \u001b[1m0s\u001b[0m 2ms/step - accuracy: 0.8630 - loss: 0.3295 - val_accuracy: 0.8569 - val_loss: 0.3473\n",
      "Epoch 52/80\n",
      "\u001b[1m200/200\u001b[0m \u001b[32m━━━━━━━━━━━━━━━━━━━━\u001b[0m\u001b[37m\u001b[0m \u001b[1m0s\u001b[0m 2ms/step - accuracy: 0.8653 - loss: 0.3306 - val_accuracy: 0.8575 - val_loss: 0.3454\n",
      "Epoch 53/80\n",
      "\u001b[1m200/200\u001b[0m \u001b[32m━━━━━━━━━━━━━━━━━━━━\u001b[0m\u001b[37m\u001b[0m \u001b[1m0s\u001b[0m 2ms/step - accuracy: 0.8662 - loss: 0.3254 - val_accuracy: 0.8506 - val_loss: 0.3480\n",
      "Epoch 54/80\n",
      "\u001b[1m200/200\u001b[0m \u001b[32m━━━━━━━━━━━━━━━━━━━━\u001b[0m\u001b[37m\u001b[0m \u001b[1m0s\u001b[0m 2ms/step - accuracy: 0.8719 - loss: 0.3142 - val_accuracy: 0.8531 - val_loss: 0.3470\n",
      "Epoch 55/80\n",
      "\u001b[1m200/200\u001b[0m \u001b[32m━━━━━━━━━━━━━━━━━━━━\u001b[0m\u001b[37m\u001b[0m \u001b[1m0s\u001b[0m 2ms/step - accuracy: 0.8718 - loss: 0.3137 - val_accuracy: 0.8525 - val_loss: 0.3472\n",
      "Epoch 56/80\n",
      "\u001b[1m200/200\u001b[0m \u001b[32m━━━━━━━━━━━━━━━━━━━━\u001b[0m\u001b[37m\u001b[0m \u001b[1m0s\u001b[0m 2ms/step - accuracy: 0.8657 - loss: 0.3207 - val_accuracy: 0.8562 - val_loss: 0.3451\n",
      "Epoch 57/80\n",
      "\u001b[1m200/200\u001b[0m \u001b[32m━━━━━━━━━━━━━━━━━━━━\u001b[0m\u001b[37m\u001b[0m \u001b[1m1s\u001b[0m 2ms/step - accuracy: 0.8653 - loss: 0.3233 - val_accuracy: 0.8544 - val_loss: 0.3456\n",
      "Epoch 58/80\n",
      "\u001b[1m200/200\u001b[0m \u001b[32m━━━━━━━━━━━━━━━━━━━━\u001b[0m\u001b[37m\u001b[0m \u001b[1m0s\u001b[0m 2ms/step - accuracy: 0.8686 - loss: 0.3167 - val_accuracy: 0.8519 - val_loss: 0.3465\n",
      "Epoch 59/80\n",
      "\u001b[1m200/200\u001b[0m \u001b[32m━━━━━━━━━━━━━━━━━━━━\u001b[0m\u001b[37m\u001b[0m \u001b[1m0s\u001b[0m 2ms/step - accuracy: 0.8634 - loss: 0.3190 - val_accuracy: 0.8525 - val_loss: 0.3495\n",
      "Epoch 60/80\n",
      "\u001b[1m200/200\u001b[0m \u001b[32m━━━━━━━━━━━━━━━━━━━━\u001b[0m\u001b[37m\u001b[0m \u001b[1m0s\u001b[0m 2ms/step - accuracy: 0.8708 - loss: 0.3183 - val_accuracy: 0.8525 - val_loss: 0.3457\n",
      "Epoch 61/80\n",
      "\u001b[1m200/200\u001b[0m \u001b[32m━━━━━━━━━━━━━━━━━━━━\u001b[0m\u001b[37m\u001b[0m \u001b[1m0s\u001b[0m 2ms/step - accuracy: 0.8716 - loss: 0.3136 - val_accuracy: 0.8537 - val_loss: 0.3462\n",
      "Epoch 62/80\n",
      "\u001b[1m200/200\u001b[0m \u001b[32m━━━━━━━━━━━━━━━━━━━━\u001b[0m\u001b[37m\u001b[0m \u001b[1m0s\u001b[0m 2ms/step - accuracy: 0.8663 - loss: 0.3261 - val_accuracy: 0.8556 - val_loss: 0.3456\n",
      "Epoch 63/80\n",
      "\u001b[1m200/200\u001b[0m \u001b[32m━━━━━━━━━━━━━━━━━━━━\u001b[0m\u001b[37m\u001b[0m \u001b[1m0s\u001b[0m 2ms/step - accuracy: 0.8696 - loss: 0.3202 - val_accuracy: 0.8512 - val_loss: 0.3503\n",
      "Epoch 64/80\n",
      "\u001b[1m200/200\u001b[0m \u001b[32m━━━━━━━━━━━━━━━━━━━━\u001b[0m\u001b[37m\u001b[0m \u001b[1m0s\u001b[0m 2ms/step - accuracy: 0.8658 - loss: 0.3294 - val_accuracy: 0.8544 - val_loss: 0.3473\n",
      "Epoch 65/80\n",
      "\u001b[1m200/200\u001b[0m \u001b[32m━━━━━━━━━━━━━━━━━━━━\u001b[0m\u001b[37m\u001b[0m \u001b[1m0s\u001b[0m 2ms/step - accuracy: 0.8653 - loss: 0.3243 - val_accuracy: 0.8531 - val_loss: 0.3471\n",
      "Epoch 66/80\n",
      "\u001b[1m200/200\u001b[0m \u001b[32m━━━━━━━━━━━━━━━━━━━━\u001b[0m\u001b[37m\u001b[0m \u001b[1m0s\u001b[0m 2ms/step - accuracy: 0.8622 - loss: 0.3311 - val_accuracy: 0.8519 - val_loss: 0.3484\n",
      "Epoch 67/80\n",
      "\u001b[1m200/200\u001b[0m \u001b[32m━━━━━━━━━━━━━━━━━━━━\u001b[0m\u001b[37m\u001b[0m \u001b[1m0s\u001b[0m 2ms/step - accuracy: 0.8662 - loss: 0.3233 - val_accuracy: 0.8581 - val_loss: 0.3469\n",
      "Epoch 68/80\n",
      "\u001b[1m200/200\u001b[0m \u001b[32m━━━━━━━━━━━━━━━━━━━━\u001b[0m\u001b[37m\u001b[0m \u001b[1m0s\u001b[0m 2ms/step - accuracy: 0.8571 - loss: 0.3323 - val_accuracy: 0.8519 - val_loss: 0.3478\n",
      "Epoch 69/80\n",
      "\u001b[1m200/200\u001b[0m \u001b[32m━━━━━━━━━━━━━━━━━━━━\u001b[0m\u001b[37m\u001b[0m \u001b[1m0s\u001b[0m 2ms/step - accuracy: 0.8694 - loss: 0.3169 - val_accuracy: 0.8537 - val_loss: 0.3458\n",
      "Epoch 70/80\n",
      "\u001b[1m200/200\u001b[0m \u001b[32m━━━━━━━━━━━━━━━━━━━━\u001b[0m\u001b[37m\u001b[0m \u001b[1m0s\u001b[0m 2ms/step - accuracy: 0.8658 - loss: 0.3227 - val_accuracy: 0.8512 - val_loss: 0.3495\n",
      "Epoch 71/80\n",
      "\u001b[1m200/200\u001b[0m \u001b[32m━━━━━━━━━━━━━━━━━━━━\u001b[0m\u001b[37m\u001b[0m \u001b[1m0s\u001b[0m 2ms/step - accuracy: 0.8611 - loss: 0.3339 - val_accuracy: 0.8531 - val_loss: 0.3465\n",
      "Epoch 72/80\n",
      "\u001b[1m200/200\u001b[0m \u001b[32m━━━━━━━━━━━━━━━━━━━━\u001b[0m\u001b[37m\u001b[0m \u001b[1m0s\u001b[0m 2ms/step - accuracy: 0.8671 - loss: 0.3221 - val_accuracy: 0.8606 - val_loss: 0.3460\n",
      "Epoch 73/80\n",
      "\u001b[1m200/200\u001b[0m \u001b[32m━━━━━━━━━━━━━━━━━━━━\u001b[0m\u001b[37m\u001b[0m \u001b[1m0s\u001b[0m 2ms/step - accuracy: 0.8653 - loss: 0.3151 - val_accuracy: 0.8569 - val_loss: 0.3462\n",
      "Epoch 74/80\n",
      "\u001b[1m200/200\u001b[0m \u001b[32m━━━━━━━━━━━━━━━━━━━━\u001b[0m\u001b[37m\u001b[0m \u001b[1m0s\u001b[0m 2ms/step - accuracy: 0.8742 - loss: 0.3166 - val_accuracy: 0.8606 - val_loss: 0.3447\n",
      "Epoch 75/80\n",
      "\u001b[1m200/200\u001b[0m \u001b[32m━━━━━━━━━━━━━━━━━━━━\u001b[0m\u001b[37m\u001b[0m \u001b[1m0s\u001b[0m 2ms/step - accuracy: 0.8612 - loss: 0.3275 - val_accuracy: 0.8606 - val_loss: 0.3443\n",
      "Epoch 76/80\n",
      "\u001b[1m200/200\u001b[0m \u001b[32m━━━━━━━━━━━━━━━━━━━━\u001b[0m\u001b[37m\u001b[0m \u001b[1m0s\u001b[0m 2ms/step - accuracy: 0.8595 - loss: 0.3312 - val_accuracy: 0.8556 - val_loss: 0.3458\n",
      "Epoch 77/80\n",
      "\u001b[1m200/200\u001b[0m \u001b[32m━━━━━━━━━━━━━━━━━━━━\u001b[0m\u001b[37m\u001b[0m \u001b[1m0s\u001b[0m 2ms/step - accuracy: 0.8697 - loss: 0.3132 - val_accuracy: 0.8587 - val_loss: 0.3457\n",
      "Epoch 78/80\n",
      "\u001b[1m200/200\u001b[0m \u001b[32m━━━━━━━━━━━━━━━━━━━━\u001b[0m\u001b[37m\u001b[0m \u001b[1m0s\u001b[0m 2ms/step - accuracy: 0.8613 - loss: 0.3266 - val_accuracy: 0.8562 - val_loss: 0.3465\n",
      "Epoch 79/80\n",
      "\u001b[1m200/200\u001b[0m \u001b[32m━━━━━━━━━━━━━━━━━━━━\u001b[0m\u001b[37m\u001b[0m \u001b[1m0s\u001b[0m 2ms/step - accuracy: 0.8629 - loss: 0.3243 - val_accuracy: 0.8594 - val_loss: 0.3454\n",
      "Epoch 80/80\n",
      "\u001b[1m200/200\u001b[0m \u001b[32m━━━━━━━━━━━━━━━━━━━━\u001b[0m\u001b[37m\u001b[0m \u001b[1m0s\u001b[0m 2ms/step - accuracy: 0.8669 - loss: 0.3199 - val_accuracy: 0.8562 - val_loss: 0.3459\n"
     ]
    }
   ],
   "source": [
    "history=model.fit(x_train_scaled,y_train,epochs=80,validation_split=0.2)"
   ]
  },
  {
   "cell_type": "code",
   "execution_count": 24,
   "id": "2314fc20",
   "metadata": {
    "execution": {
     "iopub.execute_input": "2024-09-12T18:48:58.068953Z",
     "iopub.status.busy": "2024-09-12T18:48:58.067936Z",
     "iopub.status.idle": "2024-09-12T18:48:58.080872Z",
     "shell.execute_reply": "2024-09-12T18:48:58.079811Z"
    },
    "papermill": {
     "duration": 0.067524,
     "end_time": "2024-09-12T18:48:58.083252",
     "exception": false,
     "start_time": "2024-09-12T18:48:58.015728",
     "status": "completed"
    },
    "tags": []
   },
   "outputs": [
    {
     "data": {
      "text/plain": [
       "[array([[-0.30109543,  0.33815747, -0.06619256,  0.12454215, -0.12376148,\n",
       "         -0.32586613, -0.24200086,  0.24521856, -0.10366939, -0.15098469,\n",
       "         -0.42467752],\n",
       "        [ 0.76514316, -0.29984415,  1.3083034 , -0.3524808 ,  0.20376585,\n",
       "         -0.6941907 ,  0.30684736, -0.2630699 ,  0.76098824, -0.84051204,\n",
       "          0.48954698],\n",
       "        [ 0.13363434,  0.03698289, -0.00598516, -0.29132774, -0.06377311,\n",
       "          0.47195002,  0.21038337, -0.12404943,  0.203501  ,  0.28332487,\n",
       "          0.34295288],\n",
       "        [-0.29988223, -0.91041523, -0.03818981, -0.26266548, -0.07087662,\n",
       "         -0.07759019, -0.41713798,  0.51854324, -0.10558141,  0.02745161,\n",
       "         -0.35276487],\n",
       "        [-0.9357267 , -0.33926126,  0.69247586,  0.49353707,  1.1015315 ,\n",
       "          1.1920569 , -0.35639355, -0.4786854 ,  0.18450573, -0.03195712,\n",
       "          0.11383408],\n",
       "        [ 0.03206484, -0.10415967, -0.08865691,  0.20887768,  0.16972223,\n",
       "         -0.649216  , -0.48943585, -0.5128515 ,  0.34884086,  0.8705085 ,\n",
       "         -0.61341923],\n",
       "        [-0.221275  ,  0.6387059 ,  0.04917775, -0.12748218, -0.73215586,\n",
       "         -0.09307798,  0.04568504,  0.4089823 ,  1.1131277 , -0.16153309,\n",
       "         -0.43484867],\n",
       "        [ 0.13169295, -0.02625022, -0.2083923 ,  0.14481091, -0.10806521,\n",
       "          0.4400323 ,  0.09028615, -0.06037083,  0.06090881, -0.05645749,\n",
       "         -0.2731999 ],\n",
       "        [ 0.43184796, -0.40563866,  0.07761095,  0.15463914, -0.21102136,\n",
       "          0.12842265, -0.3154045 ,  0.6584902 ,  0.17280938, -0.07512196,\n",
       "          0.22800636],\n",
       "        [-0.12087103,  0.35364714,  0.02306186, -0.2926596 ,  0.05983349,\n",
       "         -0.04129457, -0.40759596,  0.01202121,  0.1272384 , -0.14881334,\n",
       "          0.05905012],\n",
       "        [ 0.00533207,  0.24830662, -0.01751337,  0.13206358, -0.03588482,\n",
       "         -0.1434018 , -0.3518969 , -0.27807832,  0.16596039,  0.13495688,\n",
       "          0.42500597]], dtype=float32),\n",
       " array([0.2904465 , 0.55550075, 0.21353933, 0.6366448 , 0.5417697 ,\n",
       "        0.07903939, 0.6092207 , 0.30688697, 0.04140138, 0.5042379 ,\n",
       "        0.2812631 ], dtype=float32)]"
      ]
     },
     "execution_count": 24,
     "metadata": {},
     "output_type": "execute_result"
    }
   ],
   "source": [
    "model.layers[0].get_weights()"
   ]
  },
  {
   "cell_type": "code",
   "execution_count": 25,
   "id": "4a86c616",
   "metadata": {
    "execution": {
     "iopub.execute_input": "2024-09-12T18:48:58.188964Z",
     "iopub.status.busy": "2024-09-12T18:48:58.188476Z",
     "iopub.status.idle": "2024-09-12T18:48:58.198916Z",
     "shell.execute_reply": "2024-09-12T18:48:58.197800Z"
    },
    "papermill": {
     "duration": 0.066049,
     "end_time": "2024-09-12T18:48:58.201280",
     "exception": false,
     "start_time": "2024-09-12T18:48:58.135231",
     "status": "completed"
    },
    "tags": []
   },
   "outputs": [
    {
     "data": {
      "text/plain": [
       "[array([[-5.70501052e-02, -1.86084181e-01, -3.82091969e-01,\n",
       "         -5.29578507e-01, -1.70171010e+00,  1.34545872e-02,\n",
       "         -5.13416708e-01,  2.58091956e-01,  1.02310389e-01,\n",
       "          3.51896048e-01,  4.35518712e-01],\n",
       "        [ 4.51817334e-01,  1.28512070e-01,  2.77109534e-01,\n",
       "          4.22003150e-01, -5.95427930e-01, -4.70390439e-01,\n",
       "          4.13026184e-01,  6.51556104e-02,  2.72509396e-01,\n",
       "          7.86811352e-01,  3.84466350e-01],\n",
       "        [ 2.79367398e-02, -8.96507621e-01,  5.55879951e-01,\n",
       "          1.50644466e-01,  3.76447171e-01,  4.29068506e-01,\n",
       "         -5.19937575e-01, -3.00127864e-01, -7.42949620e-02,\n",
       "         -7.71763250e-02,  4.42622721e-01],\n",
       "        [ 3.25291961e-01,  2.16042310e-01,  3.31995934e-01,\n",
       "          1.67354167e-01,  3.69805664e-01, -2.16367692e-01,\n",
       "          2.39931658e-01, -4.53281283e-01, -3.38051200e-01,\n",
       "         -1.20752327e-01, -3.69282931e-01],\n",
       "        [-5.48057079e-01,  7.35072374e-01, -1.18456340e+00,\n",
       "          2.35450089e-01,  4.20951635e-01,  1.88535482e-01,\n",
       "          3.76323819e-01, -1.21543133e+00, -2.87816077e-01,\n",
       "         -3.17439437e-01,  4.15082633e-01],\n",
       "        [ 4.98821467e-01, -1.54491007e-01,  3.26608330e-01,\n",
       "         -3.35850775e-01,  8.50666821e-01,  9.94448736e-02,\n",
       "          4.06162620e-01, -1.30173850e+00,  2.19623834e-01,\n",
       "         -8.22990313e-02,  5.47897875e-01],\n",
       "        [ 2.71013618e-01,  2.48714283e-01,  9.79251713e-02,\n",
       "          2.86294848e-01, -6.62519097e-01,  5.23073494e-01,\n",
       "         -5.07812947e-02, -3.99108976e-01,  3.41546983e-01,\n",
       "          4.22460318e-01,  3.81436288e-01],\n",
       "        [-3.43184203e-01,  1.44574791e-01, -2.63603806e-01,\n",
       "          3.35469202e-04, -6.27178490e-01, -3.51375610e-01,\n",
       "          3.35964322e-01, -2.70094723e-02, -4.98938650e-01,\n",
       "         -5.77258646e-01,  9.11305696e-02],\n",
       "        [ 7.57869661e-01,  5.99827915e-02,  7.89059460e-01,\n",
       "          2.42589474e-01,  1.81037232e-01, -1.10982746e-01,\n",
       "         -5.13471723e-01,  1.16781346e-01,  7.12439835e-01,\n",
       "         -5.71847796e-01, -9.25584584e-02],\n",
       "        [-4.71525304e-02,  3.95496219e-01, -4.10353333e-01,\n",
       "          1.00922801e-01, -3.99945766e-01,  4.60923284e-01,\n",
       "         -6.72785521e-01, -2.60536298e-02,  5.53281724e-01,\n",
       "         -1.32228553e-01, -1.55127347e-01],\n",
       "        [ 1.69140205e-01,  1.70138374e-01,  2.41176918e-01,\n",
       "          3.58450472e-01, -4.46718745e-02, -9.93419811e-02,\n",
       "          4.21163172e-01,  5.27727962e-01,  5.25144398e-01,\n",
       "          4.41731177e-02,  3.06390040e-02]], dtype=float32),\n",
       " array([ 0.25394195,  0.4815906 ,  0.07441792,  0.14114906, -0.51838183,\n",
       "        -0.03960161,  0.47317725,  0.09511665,  0.22323288, -0.2306734 ,\n",
       "        -0.02588749], dtype=float32)]"
      ]
     },
     "execution_count": 25,
     "metadata": {},
     "output_type": "execute_result"
    }
   ],
   "source": [
    "model.layers[1].get_weights()"
   ]
  },
  {
   "cell_type": "code",
   "execution_count": 26,
   "id": "ae55f673",
   "metadata": {
    "execution": {
     "iopub.execute_input": "2024-09-12T18:48:58.305691Z",
     "iopub.status.busy": "2024-09-12T18:48:58.305249Z",
     "iopub.status.idle": "2024-09-12T18:48:58.313045Z",
     "shell.execute_reply": "2024-09-12T18:48:58.311901Z"
    },
    "papermill": {
     "duration": 0.062663,
     "end_time": "2024-09-12T18:48:58.315315",
     "exception": false,
     "start_time": "2024-09-12T18:48:58.252652",
     "status": "completed"
    },
    "tags": []
   },
   "outputs": [
    {
     "data": {
      "text/plain": [
       "array([[-1.03768121,  0.77498705, -1.0482813 , ..., -0.58312392,\n",
       "        -0.57273139,  0.91509065],\n",
       "       [ 0.30708683, -0.46686456, -0.70174202, ..., -0.58312392,\n",
       "        -0.57273139,  0.91509065],\n",
       "       [-1.23422423,  0.29735181, -1.0482813 , ..., -0.58312392,\n",
       "        -0.57273139, -1.09278791],\n",
       "       ...,\n",
       "       [-0.86182692, -0.46686456,  1.72403288, ..., -0.58312392,\n",
       "         1.74601919,  0.91509065],\n",
       "       [-0.30323097, -0.84897275, -1.0482813 , ...,  1.71490137,\n",
       "        -0.57273139, -1.09278791],\n",
       "       [ 0.04847759,  1.25262228,  1.3774936 , ...,  1.71490137,\n",
       "        -0.57273139,  0.91509065]])"
      ]
     },
     "execution_count": 26,
     "metadata": {},
     "output_type": "execute_result"
    }
   ],
   "source": [
    "x_test_scaled"
   ]
  },
  {
   "cell_type": "code",
   "execution_count": 27,
   "id": "e38fe8b4",
   "metadata": {
    "execution": {
     "iopub.execute_input": "2024-09-12T18:48:58.421341Z",
     "iopub.status.busy": "2024-09-12T18:48:58.420913Z",
     "iopub.status.idle": "2024-09-12T18:48:58.677476Z",
     "shell.execute_reply": "2024-09-12T18:48:58.676319Z"
    },
    "papermill": {
     "duration": 0.313248,
     "end_time": "2024-09-12T18:48:58.680191",
     "exception": false,
     "start_time": "2024-09-12T18:48:58.366943",
     "status": "completed"
    },
    "tags": []
   },
   "outputs": [
    {
     "name": "stdout",
     "output_type": "stream",
     "text": [
      "\u001b[1m63/63\u001b[0m \u001b[32m━━━━━━━━━━━━━━━━━━━━\u001b[0m\u001b[37m\u001b[0m \u001b[1m0s\u001b[0m 2ms/step\n"
     ]
    }
   ],
   "source": [
    "y_log=model.predict(x_test_scaled)"
   ]
  },
  {
   "cell_type": "code",
   "execution_count": 28,
   "id": "a2c8245f",
   "metadata": {
    "execution": {
     "iopub.execute_input": "2024-09-12T18:48:58.785791Z",
     "iopub.status.busy": "2024-09-12T18:48:58.785338Z",
     "iopub.status.idle": "2024-09-12T18:48:58.791015Z",
     "shell.execute_reply": "2024-09-12T18:48:58.789723Z"
    },
    "papermill": {
     "duration": 0.061409,
     "end_time": "2024-09-12T18:48:58.793360",
     "exception": false,
     "start_time": "2024-09-12T18:48:58.731951",
     "status": "completed"
    },
    "tags": []
   },
   "outputs": [],
   "source": [
    "y_pred=np.where(y_log>0.5,1,0)"
   ]
  },
  {
   "cell_type": "code",
   "execution_count": 29,
   "id": "d2d25fee",
   "metadata": {
    "execution": {
     "iopub.execute_input": "2024-09-12T18:48:58.953492Z",
     "iopub.status.busy": "2024-09-12T18:48:58.953052Z",
     "iopub.status.idle": "2024-09-12T18:48:58.960826Z",
     "shell.execute_reply": "2024-09-12T18:48:58.959652Z"
    },
    "papermill": {
     "duration": 0.063291,
     "end_time": "2024-09-12T18:48:58.963094",
     "exception": false,
     "start_time": "2024-09-12T18:48:58.899803",
     "status": "completed"
    },
    "tags": []
   },
   "outputs": [
    {
     "data": {
      "text/plain": [
       "array([[0],\n",
       "       [0],\n",
       "       [0],\n",
       "       ...,\n",
       "       [0],\n",
       "       [0],\n",
       "       [0]])"
      ]
     },
     "execution_count": 29,
     "metadata": {},
     "output_type": "execute_result"
    }
   ],
   "source": [
    "y_pred"
   ]
  },
  {
   "cell_type": "code",
   "execution_count": 30,
   "id": "fbdf3026",
   "metadata": {
    "execution": {
     "iopub.execute_input": "2024-09-12T18:48:59.070280Z",
     "iopub.status.busy": "2024-09-12T18:48:59.069855Z",
     "iopub.status.idle": "2024-09-12T18:48:59.074883Z",
     "shell.execute_reply": "2024-09-12T18:48:59.073796Z"
    },
    "papermill": {
     "duration": 0.061722,
     "end_time": "2024-09-12T18:48:59.077193",
     "exception": false,
     "start_time": "2024-09-12T18:48:59.015471",
     "status": "completed"
    },
    "tags": []
   },
   "outputs": [],
   "source": [
    "from sklearn.metrics import accuracy_score"
   ]
  },
  {
   "cell_type": "code",
   "execution_count": 31,
   "id": "41ddbb51",
   "metadata": {
    "execution": {
     "iopub.execute_input": "2024-09-12T18:48:59.184918Z",
     "iopub.status.busy": "2024-09-12T18:48:59.184359Z",
     "iopub.status.idle": "2024-09-12T18:48:59.195087Z",
     "shell.execute_reply": "2024-09-12T18:48:59.193733Z"
    },
    "papermill": {
     "duration": 0.067401,
     "end_time": "2024-09-12T18:48:59.197624",
     "exception": false,
     "start_time": "2024-09-12T18:48:59.130223",
     "status": "completed"
    },
    "tags": []
   },
   "outputs": [
    {
     "data": {
      "text/plain": [
       "0.862"
      ]
     },
     "execution_count": 31,
     "metadata": {},
     "output_type": "execute_result"
    }
   ],
   "source": [
    "accuracy_score(y_test,y_pred)"
   ]
  },
  {
   "cell_type": "code",
   "execution_count": 32,
   "id": "5c938b5e",
   "metadata": {
    "execution": {
     "iopub.execute_input": "2024-09-12T18:48:59.304330Z",
     "iopub.status.busy": "2024-09-12T18:48:59.303594Z",
     "iopub.status.idle": "2024-09-12T18:48:59.314458Z",
     "shell.execute_reply": "2024-09-12T18:48:59.313390Z"
    },
    "papermill": {
     "duration": 0.066696,
     "end_time": "2024-09-12T18:48:59.316735",
     "exception": false,
     "start_time": "2024-09-12T18:48:59.250039",
     "status": "completed"
    },
    "tags": []
   },
   "outputs": [
    {
     "data": {
      "text/plain": [
       "{'accuracy': [0.797656238079071,\n",
       "  0.8053125143051147,\n",
       "  0.8153125047683716,\n",
       "  0.8223437666893005,\n",
       "  0.8267187476158142,\n",
       "  0.8296874761581421,\n",
       "  0.8329687714576721,\n",
       "  0.8340625166893005,\n",
       "  0.8387500047683716,\n",
       "  0.842968761920929,\n",
       "  0.8471875190734863,\n",
       "  0.8490625023841858,\n",
       "  0.8525000214576721,\n",
       "  0.8557812571525574,\n",
       "  0.8565624952316284,\n",
       "  0.8587499856948853,\n",
       "  0.8606250286102295,\n",
       "  0.8589062690734863,\n",
       "  0.8606250286102295,\n",
       "  0.8606250286102295,\n",
       "  0.8607812523841858,\n",
       "  0.8609374761581421,\n",
       "  0.8642187714576721,\n",
       "  0.8612499833106995,\n",
       "  0.862500011920929,\n",
       "  0.8609374761581421,\n",
       "  0.8634374737739563,\n",
       "  0.8629687428474426,\n",
       "  0.8620312213897705,\n",
       "  0.8631250262260437,\n",
       "  0.8631250262260437,\n",
       "  0.8626562356948853,\n",
       "  0.8639062643051147,\n",
       "  0.8637499809265137,\n",
       "  0.8629687428474426,\n",
       "  0.8628125190734863,\n",
       "  0.8643749952316284,\n",
       "  0.8629687428474426,\n",
       "  0.8639062643051147,\n",
       "  0.8651562333106995,\n",
       "  0.8651562333106995,\n",
       "  0.864062488079071,\n",
       "  0.864062488079071,\n",
       "  0.8637499809265137,\n",
       "  0.8654687404632568,\n",
       "  0.8628125190734863,\n",
       "  0.8645312786102295,\n",
       "  0.8648437261581421,\n",
       "  0.8642187714576721,\n",
       "  0.8642187714576721,\n",
       "  0.8659374713897705,\n",
       "  0.8667187690734863,\n",
       "  0.8654687404632568,\n",
       "  0.8648437261581421,\n",
       "  0.8645312786102295,\n",
       "  0.862500011920929,\n",
       "  0.8643749952316284,\n",
       "  0.8660937547683716,\n",
       "  0.8651562333106995,\n",
       "  0.8651562333106995,\n",
       "  0.8659374713897705,\n",
       "  0.8665624856948853,\n",
       "  0.8662499785423279,\n",
       "  0.8676562309265137,\n",
       "  0.866406261920929,\n",
       "  0.8667187690734863,\n",
       "  0.8660937547683716,\n",
       "  0.8651562333106995,\n",
       "  0.8656250238418579,\n",
       "  0.8665624856948853,\n",
       "  0.8650000095367432,\n",
       "  0.8659374713897705,\n",
       "  0.8634374737739563,\n",
       "  0.8667187690734863,\n",
       "  0.8651562333106995,\n",
       "  0.8657812476158142,\n",
       "  0.8654687404632568,\n",
       "  0.8645312786102295,\n",
       "  0.8654687404632568,\n",
       "  0.8665624856948853],\n",
       " 'loss': [0.49062156677246094,\n",
       "  0.4495124816894531,\n",
       "  0.43444424867630005,\n",
       "  0.4265654683113098,\n",
       "  0.4204138517379761,\n",
       "  0.41455933451652527,\n",
       "  0.4084530770778656,\n",
       "  0.40236619114875793,\n",
       "  0.39496180415153503,\n",
       "  0.38616669178009033,\n",
       "  0.3766475319862366,\n",
       "  0.36799731850624084,\n",
       "  0.3593681752681732,\n",
       "  0.35334572196006775,\n",
       "  0.34888187050819397,\n",
       "  0.34588661789894104,\n",
       "  0.3435697853565216,\n",
       "  0.3415670394897461,\n",
       "  0.34028691053390503,\n",
       "  0.33962929248809814,\n",
       "  0.33817654848098755,\n",
       "  0.3378954827785492,\n",
       "  0.3365141749382019,\n",
       "  0.3360041379928589,\n",
       "  0.33575439453125,\n",
       "  0.334884911775589,\n",
       "  0.33420199155807495,\n",
       "  0.33466118574142456,\n",
       "  0.33388203382492065,\n",
       "  0.3333512842655182,\n",
       "  0.33267971873283386,\n",
       "  0.33231282234191895,\n",
       "  0.33209919929504395,\n",
       "  0.3315652906894684,\n",
       "  0.33181241154670715,\n",
       "  0.33067381381988525,\n",
       "  0.33042746782302856,\n",
       "  0.3305897116661072,\n",
       "  0.32969722151756287,\n",
       "  0.32984334230422974,\n",
       "  0.32973819971084595,\n",
       "  0.3286646902561188,\n",
       "  0.32915690541267395,\n",
       "  0.32879403233528137,\n",
       "  0.32876431941986084,\n",
       "  0.32888054847717285,\n",
       "  0.3276914954185486,\n",
       "  0.32781028747558594,\n",
       "  0.3272131681442261,\n",
       "  0.3272113800048828,\n",
       "  0.32707270979881287,\n",
       "  0.32622450590133667,\n",
       "  0.32644134759902954,\n",
       "  0.326010137796402,\n",
       "  0.3261696696281433,\n",
       "  0.32576653361320496,\n",
       "  0.32534539699554443,\n",
       "  0.3255528211593628,\n",
       "  0.3246292769908905,\n",
       "  0.3248768746852875,\n",
       "  0.3246573507785797,\n",
       "  0.32445865869522095,\n",
       "  0.3244430124759674,\n",
       "  0.32434120774269104,\n",
       "  0.3242601454257965,\n",
       "  0.32412660121917725,\n",
       "  0.3238528370857239,\n",
       "  0.32320162653923035,\n",
       "  0.32370883226394653,\n",
       "  0.32345277070999146,\n",
       "  0.32392817735671997,\n",
       "  0.32291901111602783,\n",
       "  0.3236977458000183,\n",
       "  0.323083758354187,\n",
       "  0.3234204947948456,\n",
       "  0.3231295049190521,\n",
       "  0.32274964451789856,\n",
       "  0.3228735625743866,\n",
       "  0.3221967816352844,\n",
       "  0.3219747841358185],\n",
       " 'val_accuracy': [0.800000011920929,\n",
       "  0.8087499737739563,\n",
       "  0.8162500262260437,\n",
       "  0.8231250047683716,\n",
       "  0.8256250023841858,\n",
       "  0.8287500143051147,\n",
       "  0.8293750286102295,\n",
       "  0.8293750286102295,\n",
       "  0.8324999809265137,\n",
       "  0.8374999761581421,\n",
       "  0.8424999713897705,\n",
       "  0.8462499976158142,\n",
       "  0.8493750095367432,\n",
       "  0.8531249761581421,\n",
       "  0.8518750071525574,\n",
       "  0.8506249785423279,\n",
       "  0.8550000190734863,\n",
       "  0.8512499928474426,\n",
       "  0.8537499904632568,\n",
       "  0.8537499904632568,\n",
       "  0.8518750071525574,\n",
       "  0.8506249785423279,\n",
       "  0.8543750047683716,\n",
       "  0.8518750071525574,\n",
       "  0.8537499904632568,\n",
       "  0.8537499904632568,\n",
       "  0.8543750047683716,\n",
       "  0.8537499904632568,\n",
       "  0.8525000214576721,\n",
       "  0.8518750071525574,\n",
       "  0.8525000214576721,\n",
       "  0.8500000238418579,\n",
       "  0.8512499928474426,\n",
       "  0.8506249785423279,\n",
       "  0.8531249761581421,\n",
       "  0.8493750095367432,\n",
       "  0.8531249761581421,\n",
       "  0.8512499928474426,\n",
       "  0.8537499904632568,\n",
       "  0.8512499928474426,\n",
       "  0.8537499904632568,\n",
       "  0.8500000238418579,\n",
       "  0.8525000214576721,\n",
       "  0.8487499952316284,\n",
       "  0.8531249761581421,\n",
       "  0.8525000214576721,\n",
       "  0.8506249785423279,\n",
       "  0.8525000214576721,\n",
       "  0.8525000214576721,\n",
       "  0.8543750047683716,\n",
       "  0.8568750023841858,\n",
       "  0.8575000166893005,\n",
       "  0.8506249785423279,\n",
       "  0.8531249761581421,\n",
       "  0.8525000214576721,\n",
       "  0.856249988079071,\n",
       "  0.8543750047683716,\n",
       "  0.8518750071525574,\n",
       "  0.8525000214576721,\n",
       "  0.8525000214576721,\n",
       "  0.8537499904632568,\n",
       "  0.8556249737739563,\n",
       "  0.8512499928474426,\n",
       "  0.8543750047683716,\n",
       "  0.8531249761581421,\n",
       "  0.8518750071525574,\n",
       "  0.8581249713897705,\n",
       "  0.8518750071525574,\n",
       "  0.8537499904632568,\n",
       "  0.8512499928474426,\n",
       "  0.8531249761581421,\n",
       "  0.8606250286102295,\n",
       "  0.8568750023841858,\n",
       "  0.8606250286102295,\n",
       "  0.8606250286102295,\n",
       "  0.8556249737739563,\n",
       "  0.8587499856948853,\n",
       "  0.856249988079071,\n",
       "  0.859375,\n",
       "  0.856249988079071],\n",
       " 'val_loss': [0.4674554169178009,\n",
       "  0.4491264224052429,\n",
       "  0.4396533966064453,\n",
       "  0.4346522092819214,\n",
       "  0.42810606956481934,\n",
       "  0.4216725528240204,\n",
       "  0.41551247239112854,\n",
       "  0.4082334041595459,\n",
       "  0.4005998969078064,\n",
       "  0.3900899887084961,\n",
       "  0.3812030553817749,\n",
       "  0.3711114823818207,\n",
       "  0.36533695459365845,\n",
       "  0.3604963421821594,\n",
       "  0.36034637689590454,\n",
       "  0.35661211609840393,\n",
       "  0.3556938171386719,\n",
       "  0.3529898524284363,\n",
       "  0.3537740409374237,\n",
       "  0.35132697224617004,\n",
       "  0.35224875807762146,\n",
       "  0.3506961464881897,\n",
       "  0.35129314661026,\n",
       "  0.3508513569831848,\n",
       "  0.35006362199783325,\n",
       "  0.34977996349334717,\n",
       "  0.3486160635948181,\n",
       "  0.34883299469947815,\n",
       "  0.34799182415008545,\n",
       "  0.34943604469299316,\n",
       "  0.347797691822052,\n",
       "  0.3495517671108246,\n",
       "  0.34810006618499756,\n",
       "  0.3484649956226349,\n",
       "  0.3473983108997345,\n",
       "  0.347327321767807,\n",
       "  0.34660470485687256,\n",
       "  0.34724947810173035,\n",
       "  0.3466755747795105,\n",
       "  0.348090261220932,\n",
       "  0.3468250036239624,\n",
       "  0.34864342212677,\n",
       "  0.34706950187683105,\n",
       "  0.34815025329589844,\n",
       "  0.34612542390823364,\n",
       "  0.34545525908470154,\n",
       "  0.34957996010780334,\n",
       "  0.3469201326370239,\n",
       "  0.346389502286911,\n",
       "  0.3468923568725586,\n",
       "  0.3473207950592041,\n",
       "  0.3454456031322479,\n",
       "  0.3480049967765808,\n",
       "  0.3469579815864563,\n",
       "  0.3472457230091095,\n",
       "  0.34511685371398926,\n",
       "  0.3455624282360077,\n",
       "  0.34652209281921387,\n",
       "  0.3495393395423889,\n",
       "  0.3457299470901489,\n",
       "  0.3462287187576294,\n",
       "  0.3455885648727417,\n",
       "  0.35026484727859497,\n",
       "  0.3472743332386017,\n",
       "  0.347050279378891,\n",
       "  0.3483777940273285,\n",
       "  0.3468727469444275,\n",
       "  0.3477502763271332,\n",
       "  0.3458491265773773,\n",
       "  0.3495147228240967,\n",
       "  0.346455454826355,\n",
       "  0.34598463773727417,\n",
       "  0.3462364077568054,\n",
       "  0.34465354681015015,\n",
       "  0.34430816769599915,\n",
       "  0.3458036780357361,\n",
       "  0.34572598338127136,\n",
       "  0.34647300839424133,\n",
       "  0.34542959928512573,\n",
       "  0.34589648246765137]}"
      ]
     },
     "execution_count": 32,
     "metadata": {},
     "output_type": "execute_result"
    }
   ],
   "source": [
    "history.history"
   ]
  },
  {
   "cell_type": "code",
   "execution_count": 33,
   "id": "6d33397c",
   "metadata": {
    "execution": {
     "iopub.execute_input": "2024-09-12T18:48:59.425341Z",
     "iopub.status.busy": "2024-09-12T18:48:59.424875Z",
     "iopub.status.idle": "2024-09-12T18:48:59.717098Z",
     "shell.execute_reply": "2024-09-12T18:48:59.715821Z"
    },
    "papermill": {
     "duration": 0.350359,
     "end_time": "2024-09-12T18:48:59.719551",
     "exception": false,
     "start_time": "2024-09-12T18:48:59.369192",
     "status": "completed"
    },
    "tags": []
   },
   "outputs": [
    {
     "data": {
      "text/plain": [
       "[<matplotlib.lines.Line2D at 0x7ae4254f75b0>]"
      ]
     },
     "execution_count": 33,
     "metadata": {},
     "output_type": "execute_result"
    },
    {
     "data": {
      "image/png": "[encoded data removed]",
      "text/plain": [
       "<Figure size 640x480 with 1 Axes>"
      ]
     },
     "metadata": {},
     "output_type": "display_data"
    }
   ],
   "source": [
    "import matplotlib.pyplot as plt\n",
    "plt.plot(history.history['loss'])\n",
    "plt.plot(history.history['val_loss'])"
   ]
  },
  {
   "cell_type": "code",
   "execution_count": 34,
   "id": "35ddbb87",
   "metadata": {
    "execution": {
     "iopub.execute_input": "2024-09-12T18:48:59.831059Z",
     "iopub.status.busy": "2024-09-12T18:48:59.830320Z",
     "iopub.status.idle": "2024-09-12T18:49:00.107382Z",
     "shell.execute_reply": "2024-09-12T18:49:00.106283Z"
    },
    "papermill": {
     "duration": 0.333836,
     "end_time": "2024-09-12T18:49:00.109933",
     "exception": false,
     "start_time": "2024-09-12T18:48:59.776097",
     "status": "completed"
    },
    "tags": []
   },
   "outputs": [
    {
     "data": {
      "text/plain": [
       "[<matplotlib.lines.Line2D at 0x7ae408fc56c0>]"
      ]
     },
     "execution_count": 34,
     "metadata": {},
     "output_type": "execute_result"
    },
    {
     "data": {
      "image/png": "[encoded data removed]",
      "text/plain": [
       "<Figure size 640x480 with 1 Axes>"
      ]
     },
     "metadata": {},
     "output_type": "display_data"
    }
   ],
   "source": [
    "plt.plot(history.history['accuracy'])\n",
    "plt.plot(history.history['val_accuracy'])"
   ]
  },
  {
   "cell_type": "code",
   "execution_count": null,
   "id": "2524efca",
   "metadata": {
    "papermill": {
     "duration": 0.054317,
     "end_time": "2024-09-12T18:49:00.218621",
     "exception": false,
     "start_time": "2024-09-12T18:49:00.164304",
     "status": "completed"
    },
    "tags": []
   },
   "outputs": [],
   "source": []
  }
 ],
 "metadata": {
  "kaggle": {
   "accelerator": "none",
   "dataSources": [
    {
     "datasetId": 869651,
     "sourceId": 1481789,
     "sourceType": "datasetVersion"
    }
   ],
   "dockerImageVersionId": 30761,
   "isGpuEnabled": false,
   "isInternetEnabled": true,
   "language": "python",
   "sourceType": "notebook"
  },
  "kernelspec": {
   "display_name": "Python 3",
   "language": "python",
   "name": "python3"
  },
  "language_info": {
   "codemirror_mode": {
    "name": "ipython",
    "version": 3
   },
   "file_extension": ".py",
   "mimetype": "text/x-python",
   "name": "python",
   "nbconvert_exporter": "python",
   "pygments_lexer": "ipython3",
   "version": "3.10.14"
  },
  "papermill": {
   "default_parameters": {},
   "duration": 56.259335,
   "end_time": "2024-09-12T18:49:01.901644",
   "environment_variables": {},
   "exception": null,
   "input_path": "__notebook__.ipynb",
   "output_path": "__notebook__.ipynb",
   "parameters": {},
   "start_time": "2024-09-12T18:48:05.642309",
   "version": "2.6.0"
  }
 },
 "nbformat": 4,
 "nbformat_minor": 5
}
